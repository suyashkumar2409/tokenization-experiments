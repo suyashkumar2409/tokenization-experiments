{
 "cells": [
  {
   "cell_type": "code",
   "execution_count": 1,
   "id": "initial_id",
   "metadata": {
    "collapsed": true,
    "ExecuteTime": {
     "end_time": "2024-02-22T01:14:10.234503Z",
     "start_time": "2024-02-22T01:14:04.399654Z"
    }
   },
   "outputs": [],
   "source": [
    "import pandas as pd\n",
    "import yaml\n",
    "import pickle\n",
    "from transformers import AutoTokenizer\n",
    "from datasets import load_dataset\n",
    "from tokenizers.pre_tokenizers import Sequence\n",
    "from tokenizers import NormalizedString, PreTokenizedString\n",
    "from tokenizers.pre_tokenizers import PreTokenizer\n",
    "from DPSplitter import DPSplitter\n",
    "from typing import List"
   ]
  },
  {
   "cell_type": "markdown",
   "source": [
    "# LlamaTokenizer experiments"
   ],
   "metadata": {
    "collapsed": false
   },
   "id": "7f324e88a355507e"
  },
  {
   "cell_type": "code",
   "execution_count": 4,
   "outputs": [],
   "source": [
    "llamatokenizer = AutoTokenizer.from_pretrained('/Users/suyashkr/tokenization/llama')"
   ],
   "metadata": {
    "collapsed": false,
    "ExecuteTime": {
     "end_time": "2024-02-22T01:16:04.538711Z",
     "start_time": "2024-02-22T01:16:04.467524Z"
    }
   },
   "id": "520df263bfa266c0"
  },
  {
   "cell_type": "code",
   "execution_count": 5,
   "outputs": [
    {
     "data": {
      "text/plain": "LlamaTokenizerFast(name_or_path='/Users/suyashkr/tokenization/llama', vocab_size=32000, model_max_length=1000000000000000019884624838656, is_fast=True, padding_side='right', truncation_side='right', special_tokens={'bos_token': '<s>', 'eos_token': '</s>', 'unk_token': '<unk>'}, clean_up_tokenization_spaces=False),  added_tokens_decoder={\n\t0: AddedToken(\"<unk>\", rstrip=False, lstrip=False, single_word=False, normalized=False, special=True),\n\t1: AddedToken(\"<s>\", rstrip=False, lstrip=False, single_word=False, normalized=False, special=True),\n\t2: AddedToken(\"</s>\", rstrip=False, lstrip=False, single_word=False, normalized=False, special=True),\n}"
     },
     "execution_count": 5,
     "metadata": {},
     "output_type": "execute_result"
    }
   ],
   "source": [
    "llamatokenizer"
   ],
   "metadata": {
    "collapsed": false,
    "ExecuteTime": {
     "end_time": "2024-02-22T01:16:08.106928Z",
     "start_time": "2024-02-22T01:16:08.093335Z"
    }
   },
   "id": "72baf33faa8bac49"
  },
  {
   "cell_type": "markdown",
   "source": [
    "# End of Llamatokenizer experiments"
   ],
   "metadata": {
    "collapsed": false
   },
   "id": "2e9d7ff379f8f200"
  },
  {
   "cell_type": "code",
   "execution_count": 9,
   "outputs": [],
   "source": [
    "with open(\"config.yaml\") as f:\n",
    "    config = yaml.load(f, Loader=yaml.FullLoader)"
   ],
   "metadata": {
    "collapsed": false,
    "ExecuteTime": {
     "end_time": "2024-02-17T21:13:27.354442Z",
     "start_time": "2024-02-17T21:13:27.220068Z"
    }
   },
   "id": "a44159c7cdde0bc9"
  },
  {
   "cell_type": "code",
   "execution_count": 10,
   "outputs": [],
   "source": [
    "def llama_tokenizer(tokenizer_path):\n",
    "    return AutoTokenizer.from_pretrained(tokenizer_path)"
   ],
   "metadata": {
    "collapsed": false,
    "ExecuteTime": {
     "end_time": "2024-02-17T21:13:27.822954Z",
     "start_time": "2024-02-17T21:13:27.765154Z"
    }
   },
   "id": "a7467e067e5e0e63"
  },
  {
   "cell_type": "code",
   "execution_count": 13,
   "outputs": [],
   "source": [
    "class CustomPreTokenizer:\n",
    "    def __init__(self, vocab=None):\n",
    "        # make sure you only retain keys\n",
    "        self.vocab = vocab\n",
    "        self.dp_splitter = DPSplitter(vocab)\n",
    "\n",
    "    def dp_split(self, i: int, normalized_string: NormalizedString) -> List[NormalizedString]:\n",
    "        splits = self.dp_splitter.split(normalized_string)\n",
    "        return splits\n",
    "\n",
    "    def pre_tokenize(self, pretok: PreTokenizedString):\n",
    "        pretok.split(self.dp_split)\n",
    "\n",
    "\n",
    "def get_tokens_fn(tokenizer):\n",
    "    def get_tokens(row):\n",
    "        return tokenizer.encode(row[\"code\"])\n",
    "\n",
    "    return get_tokens"
   ],
   "metadata": {
    "collapsed": false,
    "ExecuteTime": {
     "end_time": "2024-02-17T21:13:45.087675Z",
     "start_time": "2024-02-17T21:13:45.083867Z"
    }
   },
   "id": "f65bf0fc3ca03441"
  },
  {
   "cell_type": "markdown",
   "source": [
    "# Create new tokenizer which uses DP Splitter"
   ],
   "metadata": {
    "collapsed": false
   },
   "id": "3fc07b02eff97067"
  },
  {
   "cell_type": "code",
   "execution_count": 14,
   "outputs": [],
   "source": [
    "original_tokenizer = AutoTokenizer.from_pretrained((config['tokenizer_path']))\n",
    "\n",
    "dp_tokenizer = AutoTokenizer.from_pretrained((config['tokenizer_path']))\n",
    "original_pre_tokenizer = dp_tokenizer.backend_tokenizer.pre_tokenizer\n",
    "# A new pretokenizer step has been added that tokenizes based on the dp splitting mechanism\n",
    "dp_tokenizer.backend_tokenizer.pre_tokenizer = Sequence([original_pre_tokenizer, PreTokenizer.custom(\n",
    "    CustomPreTokenizer(vocab=dp_tokenizer.get_vocab().keys()))])\n",
    "\n",
    "mbpp_dataset = load_dataset(config['mbpp_path'], split=\"test\")"
   ],
   "metadata": {
    "collapsed": false,
    "ExecuteTime": {
     "end_time": "2024-02-17T21:14:00.607287Z",
     "start_time": "2024-02-17T21:13:52.535813Z"
    }
   },
   "id": "ef2a6bdc828d3fff"
  },
  {
   "cell_type": "markdown",
   "source": [
    "# Evaluate results"
   ],
   "metadata": {
    "collapsed": false
   },
   "id": "25d6f7a36415bd22"
  },
  {
   "cell_type": "code",
   "execution_count": 15,
   "outputs": [],
   "source": [
    "original_tokenizer_mapper = get_tokens_fn(original_tokenizer)\n",
    "new_tokenizer_mapper = get_tokens_fn(dp_tokenizer)\n",
    "\n",
    "original_tokens = []\n",
    "new_tokens = []\n",
    "\n",
    "for row in mbpp_dataset:\n",
    "    original_tokens.append(original_tokenizer_mapper(row))\n",
    "    new_tokens.append(new_tokenizer_mapper(row))\n",
    "\n",
    "indices_with_difference = [\n",
    "    (i, 100.0 * float(len(original_tokens[i]) - len(new_tokens[i])) / len(original_tokens[i])) for i in\n",
    "    range(len(original_tokens)) if\n",
    "    len(original_tokens[i]) != len(new_tokens[i])]"
   ],
   "metadata": {
    "collapsed": false,
    "ExecuteTime": {
     "end_time": "2024-02-17T21:14:30.278524Z",
     "start_time": "2024-02-17T21:14:15.867230Z"
    }
   },
   "id": "a691483c2e6296b1"
  },
  {
   "cell_type": "code",
   "execution_count": 19,
   "outputs": [
    {
     "data": {
      "text/plain": "[(17, 3.0927835051546393),\n (29, 2.2222222222222223),\n (41, 4.166666666666667),\n (85, 2.0408163265306123),\n (96, 0.4291845493562232),\n (102, 1.2048192771084338),\n (116, 0.8771929824561403),\n (122, 12.0),\n (135, 2.6315789473684212),\n (137, 0.5405405405405406),\n (140, 1.408450704225352),\n (146, 2.3255813953488373),\n (161, 1.2195121951219512),\n (164, 1.1363636363636365),\n (171, 1.5151515151515151),\n (181, 0.8064516129032258),\n (197, 1.408450704225352),\n (204, 0.8333333333333334),\n (222, 12.820512820512821),\n (244, 2.2222222222222223),\n (255, 6.896551724137931),\n (258, 4.3478260869565215),\n (263, 2.7777777777777777),\n (275, 0.6578947368421053),\n (280, 0.8),\n (284, 3.5714285714285716),\n (296, 9.23076923076923),\n (306, 0.8771929824561403),\n (328, 2.272727272727273),\n (331, 1.1682242990654206),\n (332, 1.0204081632653061),\n (334, 2.0408163265306123),\n (358, 5.405405405405405),\n (363, 0.47393364928909953),\n (378, 4.411764705882353),\n (387, 2.380952380952381),\n (394, 6.382978723404255),\n (408, 3.5714285714285716),\n (427, 2.3076923076923075),\n (448, 1.7241379310344827),\n (474, 3.3653846153846154),\n (478, 0.6451612903225806),\n (492, 1.9607843137254901)]"
     },
     "execution_count": 19,
     "metadata": {},
     "output_type": "execute_result"
    }
   ],
   "source": [
    "indices_with_difference"
   ],
   "metadata": {
    "collapsed": false,
    "ExecuteTime": {
     "end_time": "2024-02-17T21:15:28.546532Z",
     "start_time": "2024-02-17T21:15:28.531231Z"
    }
   },
   "id": "1e899db05425bde8"
  },
  {
   "cell_type": "code",
   "execution_count": 20,
   "outputs": [],
   "source": [
    "indices = [idx[0] for idx in indices_with_difference]"
   ],
   "metadata": {
    "collapsed": false,
    "ExecuteTime": {
     "end_time": "2024-02-17T21:16:30.493743Z",
     "start_time": "2024-02-17T21:16:30.282975Z"
    }
   },
   "id": "9e5da5feb4de279c"
  },
  {
   "cell_type": "code",
   "execution_count": 30,
   "outputs": [],
   "source": [
    "text_inputs = mbpp_dataset[indices][\"code\"]"
   ],
   "metadata": {
    "collapsed": false,
    "ExecuteTime": {
     "end_time": "2024-02-17T21:18:18.474231Z",
     "start_time": "2024-02-17T21:18:18.425937Z"
    }
   },
   "id": "7721388734e9b96e"
  },
  {
   "cell_type": "code",
   "execution_count": 36,
   "outputs": [],
   "source": [
    "import pandas as pd\n",
    "\n",
    "df = pd.DataFrame(data=indices_with_difference, columns=[\"mbpp_test_index\", \"tokenization_percentage_improvement\"])"
   ],
   "metadata": {
    "collapsed": false,
    "ExecuteTime": {
     "end_time": "2024-02-17T21:22:07.994054Z",
     "start_time": "2024-02-17T21:22:07.728655Z"
    }
   },
   "id": "c7b4aad33e71e587"
  },
  {
   "cell_type": "code",
   "execution_count": 38,
   "outputs": [],
   "source": [
    "df['text_inputs'] = text_inputs"
   ],
   "metadata": {
    "collapsed": false,
    "ExecuteTime": {
     "end_time": "2024-02-17T21:22:38.388031Z",
     "start_time": "2024-02-17T21:22:38.251191Z"
    }
   },
   "id": "aeb9c4957607d241"
  },
  {
   "cell_type": "code",
   "execution_count": 42,
   "outputs": [],
   "source": [
    "tokens = original_tokens[0]"
   ],
   "metadata": {
    "collapsed": false,
    "ExecuteTime": {
     "end_time": "2024-02-17T21:25:51.141274Z",
     "start_time": "2024-02-17T21:25:50.184184Z"
    }
   },
   "id": "8abf2d721c122c08"
  },
  {
   "cell_type": "code",
   "execution_count": 48,
   "outputs": [],
   "source": [
    "def show_separated(tokenizer, tokens):\n",
    "    return \"||\".join([tokenizer.decode(token) for token in tokens])"
   ],
   "metadata": {
    "collapsed": false,
    "ExecuteTime": {
     "end_time": "2024-02-17T21:28:34.722577Z",
     "start_time": "2024-02-17T21:28:34.694584Z"
    }
   },
   "id": "958c808d59e8f470"
  },
  {
   "cell_type": "code",
   "execution_count": 52,
   "outputs": [],
   "source": [
    "df[\"original_tokenization\"] = [show_separated(original_tokenizer, original_tokens[idx]) for idx in indices]"
   ],
   "metadata": {
    "collapsed": false,
    "ExecuteTime": {
     "end_time": "2024-02-17T21:29:48.666724Z",
     "start_time": "2024-02-17T21:29:48.484187Z"
    }
   },
   "id": "436d305ba755462b"
  },
  {
   "cell_type": "code",
   "execution_count": 53,
   "outputs": [],
   "source": [
    "df[\"dp_tokenization\"] = [show_separated(dp_tokenizer, new_tokens[idx]) for idx in indices]"
   ],
   "metadata": {
    "collapsed": false,
    "ExecuteTime": {
     "end_time": "2024-02-17T21:30:17.651464Z",
     "start_time": "2024-02-17T21:30:17.468903Z"
    }
   },
   "id": "59812f3f47332149"
  },
  {
   "cell_type": "code",
   "execution_count": 54,
   "outputs": [
    {
     "data": {
      "text/plain": "    mbpp_test_index  tokenization_percentage_improvement  \\\n0                17                             3.092784   \n1                29                             2.222222   \n2                41                             4.166667   \n3                85                             2.040816   \n4                96                             0.429185   \n5               102                             1.204819   \n6               116                             0.877193   \n7               122                            12.000000   \n8               135                             2.631579   \n9               137                             0.540541   \n10              140                             1.408451   \n11              146                             2.325581   \n12              161                             1.219512   \n13              164                             1.136364   \n14              171                             1.515152   \n15              181                             0.806452   \n16              197                             1.408451   \n17              204                             0.833333   \n18              222                            12.820513   \n19              244                             2.222222   \n20              255                             6.896552   \n21              258                             4.347826   \n22              263                             2.777778   \n23              275                             0.657895   \n24              280                             0.800000   \n25              284                             3.571429   \n26              296                             9.230769   \n27              306                             0.877193   \n28              328                             2.272727   \n29              331                             1.168224   \n30              332                             1.020408   \n31              334                             2.040816   \n32              358                             5.405405   \n33              363                             0.473934   \n34              378                             4.411765   \n35              387                             2.380952   \n36              394                             6.382979   \n37              408                             3.571429   \n38              427                             2.307692   \n39              448                             1.724138   \n40              474                             3.365385   \n41              478                             0.645161   \n42              492                             1.960784   \n\n                                          text_inputs  \\\n0   def binomial_Coeff(n,k): \\r\\n    if k > n : \\r...   \n1   from collections import Counter\\r\\nfrom iterto...   \n2   def parallelogram_area(b,h):\\r\\n  area=b*h\\r\\n...   \n3   def divisor(n):\\r\\n  for i in range(n):\\r\\n   ...   \n4   def count_Hexadecimal(L,R) :  \\r\\n    count = ...   \n5   def check_integer(text):\\r\\n text = text.strip...   \n6   def multiply_int(x, y):\\r\\n    if y < 0:\\r\\n  ...   \n7   def sum_negativenum(nums):\\r\\n  sum_negativenu...   \n8   def ascii_value_string(str1):\\r\\n  for i in ra...   \n9   def sum_digits_single(x) : \\r\\n    ans = 0\\r\\n...   \n10  def gcd(p,q):\\r\\n    while q != 0:\\r\\n        ...   \n11  from itertools import groupby\\r\\ndef encode_li...   \n12  def count_occurance(s):\\r\\n  count=0\\r\\n  for ...   \n13  def is_valid_parenthese( str1):\\r\\n        sta...   \n14  import re\\r\\ndef find_character(string):\\r\\n  ...   \n15  def check_String(str): \\r\\n    flag_l = False\\...   \n16  import re\\r\\ndef is_decimal(num):\\r\\n  num_fet...   \n17  def decode_list(alist):\\r\\n    def aux(g):\\r\\n...   \n18  def lateralsuface_cylinder(r,h):\\r\\n  laterals...   \n19  from itertools import combinations_with_replac...   \n20  def lateralsurface_cube(l):\\r\\n  LSA = 4 * (l ...   \n21  def ascii_value(k):\\r\\n  ch=k\\r\\n  return ord(ch)   \n22  import math  \\r\\ndef even_binomial_Coeff_Sum( ...   \n23  def max_sub_array_sum_repeated(a, n, k): \\r\\n\\...   \n24  def count_no_of_ways(n, k): \\r\\n\\tdp = [0] * (...   \n25  def sum_div(number):\\r\\n    divisors = [1]\\r\\n...   \n26  from copy import deepcopy\\r\\ndef colon_tuplex(...   \n27  from itertools import groupby\\r\\ndef modified_...   \n28  def find_Divisor(x,y):  \\r\\n    if (x==y): \\r\\...   \n29  from heapq import heappop, heappush\\r\\nclass N...   \n30  def dig_let(s):\\r\\n d=l=0\\r\\n for c in s:\\r\\n ...   \n31  def diff_consecutivenums(nums):\\r\\n    result ...   \n32  def lateralsurface_cuboid(l,w,h):\\r\\n  LSA = 2...   \n33  def permute_string(str):\\r\\n    if len(str) ==...   \n34  def find_lucas(n): \\r\\n\\tif (n == 0): \\r\\n\\t\\t...   \n35  def sum_of_digits(nums):\\r\\n    return sum(int...   \n36  def check_tuplex(tuplex,tuple1): \\r\\n  if tupl...   \n37  def round_and_sum(list1):\\r\\n  lenght=len(list...   \n38  def count_bidirectional(test_list):\\r\\n  res =...   \n39  import re\\r\\ndef remove_uppercase(str1):\\r\\n  ...   \n40  def is_palindrome(n) : \\r\\n\\tdivisor = 1\\r\\n\\t...   \n41  def frequency_Of_Largest(n,arr): \\r\\n    mn = ...   \n42  def add_consecutive_nums(nums):\\r\\n    result ...   \n\n                                original_tokenization  \\\n0   def|| bin||omial||_||C||oe||ff||(||n||,||k||):...   \n1   from|| collections|| import|| Counter||\\r||\\n|...   \n2   def|| paralle||log||ram||_||area||(||b||,||h||...   \n3   def|| div||is||or||(||n||):||\\r||\\n|| || for||...   \n4   def|| count||_||H||ex||ade||c||imal||(||L||,||...   \n5   def|| check||_||integer||(||text||):||\\r||\\n||...   \n6   def|| multiply||_||int||(||x||,|| y||):||\\r||\\...   \n7   def|| sum||_||neg||at||iven||um||(||n||ums||):...   \n8   def|| as||ci||i||_||value||_||string||(||str||...   \n9   def|| sum||_||dig||its||_||single||(||x||)|| :...   \n10  def|| g||cd||(||p||,||q||):||\\r||\\n|| || || ||...   \n11  from|| it||ert||ools|| import|| group||by||\\r|...   \n12  def|| count||_||occ||urance||(||s||):||\\r||\\n|...   \n13  def|| is||_||valid||_||parent||he||se||(|| str...   \n14  import|| re||\\r||\\n||def|| find||_||character|...   \n15  def|| check||_||String||(||str||):|| ||\\r||\\n|...   \n16  import|| re||\\r||\\n||def|| is||_||dec||imal||(...   \n17  def|| decode||_||list||(||alist||):||\\r||\\n|| ...   \n18  def|| later||als||u||face||_||cyl||inder||(||r...   \n19  from|| it||ert||ools|| import|| combinations||...   \n20  def|| later||als||ur||face||_||cube||(||l||):|...   \n21  def|| as||ci||i||_||value||(||k||):||\\r||\\n|| ...   \n22  import|| math|| || ||\\r||\\n||def|| even||_||bi...   \n23  def|| max||_||sub||_||array||_||sum||_||repe||...   \n24  def|| count||_||no||_||of||_||ways||(||n||,|| ...   \n25  def|| sum||_||div||(||number||):||\\r||\\n|| || ...   \n26  from|| copy|| import|| deep||copy||\\r||\\n||def...   \n27  from|| it||ert||ools|| import|| group||by||\\r|...   \n28  def|| find||_||Div||is||or||(||x||,||y||):|| |...   \n29  from|| heap||q|| import|| he||app||op||,|| he|...   \n30  def|| dig||_||let||(||s||):||\\r||\\n|| d||=||l|...   \n31  def|| diff||_||con||secut||iven||ums||(||n||um...   \n32  def|| later||als||ur||face||_||c||ub||oid||(||...   \n33  def|| perm||ute||_||string||(||str||):||\\r||\\n...   \n34  def|| find||_||l||uc||as||(||n||):|| ||\\r||\\n|...   \n35  def|| sum||_||of||_||dig||its||(||n||ums||):||...   \n36  def|| check||_||t||up||lex||(||t||up||lex||,||...   \n37  def|| round||_||and||_||sum||(||list||1||):||\\...   \n38  def|| count||_||bid||irection||al||(||test||_|...   \n39  import|| re||\\r||\\n||def|| remove||_||upp||erc...   \n40  def|| is||_||pal||ind||rome||(||n||)|| :|| ||\\...   \n41  def|| frequency||_||Of||_||L||arg||est||(||n||...   \n42  def|| add||_||con||secut||ive||_||n||ums||(||n...   \n\n                                      dp_tokenization  \n0   def|| bin||omial||_||Co||eff||(||n||,||k||):||...  \n1   from|| collections|| import|| Counter||\\r||\\n|...  \n2   def|| parallel||ogram||_||area||(||b||,||h||):...  \n3   def|| di||visor||(||n||):||\\r||\\n|| || for|| i...  \n4   def|| count||_||He||xa||dec||imal||(||L||,||R|...  \n5   def|| check||_||integer||(||text||):||\\r||\\n||...  \n6   def|| multiply||_||int||(||x||,|| y||):||\\r||\\...  \n7   def|| sum||_||negative||num||(||n||ums||):||\\r...  \n8   def|| asc||ii||_||value||_||string||(||str||1|...  \n9   def|| sum||_||dig||its||_||single||(||x||)|| :...  \n10  def|| g||cd||(||p||,||q||):||\\r||\\n|| || || ||...  \n11  from|| iter||tools|| import|| group||by||\\r||\\...  \n12  def|| count||_||occ||urance||(||s||):||\\r||\\n|...  \n13  def|| is||_||valid||_||paren||these||(|| str||...  \n14  import|| re||\\r||\\n||def|| find||_||character|...  \n15  def|| check||_||String||(||str||):|| ||\\r||\\n|...  \n16  import|| re||\\r||\\n||def|| is||_||dec||imal||(...  \n17  def|| decode||_||list||(||alist||):||\\r||\\n|| ...  \n18  def|| lateral||su||face||_||cyl||inder||(||r||...  \n19  from|| iter||tools|| import|| combinations||_|...  \n20  def|| lateral||surface||_||cube||(||l||):||\\r|...  \n21  def|| asc||ii||_||value||(||k||):||\\r||\\n|| ||...  \n22  import|| math|| || ||\\r||\\n||def|| even||_||bi...  \n23  def|| max||_||sub||_||array||_||sum||_||repe||...  \n24  def|| count||_||no||_||of||_||ways||(||n||,|| ...  \n25  def|| sum||_||div||(||number||):||\\r||\\n|| || ...  \n26  from|| copy|| import|| deep||copy||\\r||\\n||def...  \n27  from|| iter||tools|| import|| group||by||\\r||\\...  \n28  def|| find||_||Di||visor||(||x||,||y||):|| || ...  \n29  from|| heap||q|| import|| heap||pop||,|| heap|...  \n30  def|| dig||_||let||(||s||):||\\r||\\n|| d||=||l|...  \n31  def|| diff||_||con||secut||iven||ums||(||n||um...  \n32  def|| lateral||surface||_||c||ub||oid||(||l||,...  \n33  def|| perm||ute||_||string||(||str||):||\\r||\\n...  \n34  def|| find||_||lu||cas||(||n||):|| ||\\r||\\n||\\...  \n35  def|| sum||_||of||_||dig||its||(||n||ums||):||...  \n36  def|| check||_||tu||plex||(||tu||plex||,||t||u...  \n37  def|| round||_||and||_||sum||(||list||1||):||\\...  \n38  def|| count||_||bi||direct||ional||(||test||_|...  \n39  import|| re||\\r||\\n||def|| remove||_||upper||c...  \n40  def|| is||_||pal||ind||rome||(||n||)|| :|| ||\\...  \n41  def|| frequency||_||Of||_||Large||st||(||n||,|...  \n42  def|| add||_||con||sec||utive||_||n||ums||(||n...  ",
      "text/html": "<div>\n<style scoped>\n    .dataframe tbody tr th:only-of-type {\n        vertical-align: middle;\n    }\n\n    .dataframe tbody tr th {\n        vertical-align: top;\n    }\n\n    .dataframe thead th {\n        text-align: right;\n    }\n</style>\n<table border=\"1\" class=\"dataframe\">\n  <thead>\n    <tr style=\"text-align: right;\">\n      <th></th>\n      <th>mbpp_test_index</th>\n      <th>tokenization_percentage_improvement</th>\n      <th>text_inputs</th>\n      <th>original_tokenization</th>\n      <th>dp_tokenization</th>\n    </tr>\n  </thead>\n  <tbody>\n    <tr>\n      <th>0</th>\n      <td>17</td>\n      <td>3.092784</td>\n      <td>def binomial_Coeff(n,k): \\r\\n    if k &gt; n : \\r...</td>\n      <td>def|| bin||omial||_||C||oe||ff||(||n||,||k||):...</td>\n      <td>def|| bin||omial||_||Co||eff||(||n||,||k||):||...</td>\n    </tr>\n    <tr>\n      <th>1</th>\n      <td>29</td>\n      <td>2.222222</td>\n      <td>from collections import Counter\\r\\nfrom iterto...</td>\n      <td>from|| collections|| import|| Counter||\\r||\\n|...</td>\n      <td>from|| collections|| import|| Counter||\\r||\\n|...</td>\n    </tr>\n    <tr>\n      <th>2</th>\n      <td>41</td>\n      <td>4.166667</td>\n      <td>def parallelogram_area(b,h):\\r\\n  area=b*h\\r\\n...</td>\n      <td>def|| paralle||log||ram||_||area||(||b||,||h||...</td>\n      <td>def|| parallel||ogram||_||area||(||b||,||h||):...</td>\n    </tr>\n    <tr>\n      <th>3</th>\n      <td>85</td>\n      <td>2.040816</td>\n      <td>def divisor(n):\\r\\n  for i in range(n):\\r\\n   ...</td>\n      <td>def|| div||is||or||(||n||):||\\r||\\n|| || for||...</td>\n      <td>def|| di||visor||(||n||):||\\r||\\n|| || for|| i...</td>\n    </tr>\n    <tr>\n      <th>4</th>\n      <td>96</td>\n      <td>0.429185</td>\n      <td>def count_Hexadecimal(L,R) :  \\r\\n    count = ...</td>\n      <td>def|| count||_||H||ex||ade||c||imal||(||L||,||...</td>\n      <td>def|| count||_||He||xa||dec||imal||(||L||,||R|...</td>\n    </tr>\n    <tr>\n      <th>5</th>\n      <td>102</td>\n      <td>1.204819</td>\n      <td>def check_integer(text):\\r\\n text = text.strip...</td>\n      <td>def|| check||_||integer||(||text||):||\\r||\\n||...</td>\n      <td>def|| check||_||integer||(||text||):||\\r||\\n||...</td>\n    </tr>\n    <tr>\n      <th>6</th>\n      <td>116</td>\n      <td>0.877193</td>\n      <td>def multiply_int(x, y):\\r\\n    if y &lt; 0:\\r\\n  ...</td>\n      <td>def|| multiply||_||int||(||x||,|| y||):||\\r||\\...</td>\n      <td>def|| multiply||_||int||(||x||,|| y||):||\\r||\\...</td>\n    </tr>\n    <tr>\n      <th>7</th>\n      <td>122</td>\n      <td>12.000000</td>\n      <td>def sum_negativenum(nums):\\r\\n  sum_negativenu...</td>\n      <td>def|| sum||_||neg||at||iven||um||(||n||ums||):...</td>\n      <td>def|| sum||_||negative||num||(||n||ums||):||\\r...</td>\n    </tr>\n    <tr>\n      <th>8</th>\n      <td>135</td>\n      <td>2.631579</td>\n      <td>def ascii_value_string(str1):\\r\\n  for i in ra...</td>\n      <td>def|| as||ci||i||_||value||_||string||(||str||...</td>\n      <td>def|| asc||ii||_||value||_||string||(||str||1|...</td>\n    </tr>\n    <tr>\n      <th>9</th>\n      <td>137</td>\n      <td>0.540541</td>\n      <td>def sum_digits_single(x) : \\r\\n    ans = 0\\r\\n...</td>\n      <td>def|| sum||_||dig||its||_||single||(||x||)|| :...</td>\n      <td>def|| sum||_||dig||its||_||single||(||x||)|| :...</td>\n    </tr>\n    <tr>\n      <th>10</th>\n      <td>140</td>\n      <td>1.408451</td>\n      <td>def gcd(p,q):\\r\\n    while q != 0:\\r\\n        ...</td>\n      <td>def|| g||cd||(||p||,||q||):||\\r||\\n|| || || ||...</td>\n      <td>def|| g||cd||(||p||,||q||):||\\r||\\n|| || || ||...</td>\n    </tr>\n    <tr>\n      <th>11</th>\n      <td>146</td>\n      <td>2.325581</td>\n      <td>from itertools import groupby\\r\\ndef encode_li...</td>\n      <td>from|| it||ert||ools|| import|| group||by||\\r|...</td>\n      <td>from|| iter||tools|| import|| group||by||\\r||\\...</td>\n    </tr>\n    <tr>\n      <th>12</th>\n      <td>161</td>\n      <td>1.219512</td>\n      <td>def count_occurance(s):\\r\\n  count=0\\r\\n  for ...</td>\n      <td>def|| count||_||occ||urance||(||s||):||\\r||\\n|...</td>\n      <td>def|| count||_||occ||urance||(||s||):||\\r||\\n|...</td>\n    </tr>\n    <tr>\n      <th>13</th>\n      <td>164</td>\n      <td>1.136364</td>\n      <td>def is_valid_parenthese( str1):\\r\\n        sta...</td>\n      <td>def|| is||_||valid||_||parent||he||se||(|| str...</td>\n      <td>def|| is||_||valid||_||paren||these||(|| str||...</td>\n    </tr>\n    <tr>\n      <th>14</th>\n      <td>171</td>\n      <td>1.515152</td>\n      <td>import re\\r\\ndef find_character(string):\\r\\n  ...</td>\n      <td>import|| re||\\r||\\n||def|| find||_||character|...</td>\n      <td>import|| re||\\r||\\n||def|| find||_||character|...</td>\n    </tr>\n    <tr>\n      <th>15</th>\n      <td>181</td>\n      <td>0.806452</td>\n      <td>def check_String(str): \\r\\n    flag_l = False\\...</td>\n      <td>def|| check||_||String||(||str||):|| ||\\r||\\n|...</td>\n      <td>def|| check||_||String||(||str||):|| ||\\r||\\n|...</td>\n    </tr>\n    <tr>\n      <th>16</th>\n      <td>197</td>\n      <td>1.408451</td>\n      <td>import re\\r\\ndef is_decimal(num):\\r\\n  num_fet...</td>\n      <td>import|| re||\\r||\\n||def|| is||_||dec||imal||(...</td>\n      <td>import|| re||\\r||\\n||def|| is||_||dec||imal||(...</td>\n    </tr>\n    <tr>\n      <th>17</th>\n      <td>204</td>\n      <td>0.833333</td>\n      <td>def decode_list(alist):\\r\\n    def aux(g):\\r\\n...</td>\n      <td>def|| decode||_||list||(||alist||):||\\r||\\n|| ...</td>\n      <td>def|| decode||_||list||(||alist||):||\\r||\\n|| ...</td>\n    </tr>\n    <tr>\n      <th>18</th>\n      <td>222</td>\n      <td>12.820513</td>\n      <td>def lateralsuface_cylinder(r,h):\\r\\n  laterals...</td>\n      <td>def|| later||als||u||face||_||cyl||inder||(||r...</td>\n      <td>def|| lateral||su||face||_||cyl||inder||(||r||...</td>\n    </tr>\n    <tr>\n      <th>19</th>\n      <td>244</td>\n      <td>2.222222</td>\n      <td>from itertools import combinations_with_replac...</td>\n      <td>from|| it||ert||ools|| import|| combinations||...</td>\n      <td>from|| iter||tools|| import|| combinations||_|...</td>\n    </tr>\n    <tr>\n      <th>20</th>\n      <td>255</td>\n      <td>6.896552</td>\n      <td>def lateralsurface_cube(l):\\r\\n  LSA = 4 * (l ...</td>\n      <td>def|| later||als||ur||face||_||cube||(||l||):|...</td>\n      <td>def|| lateral||surface||_||cube||(||l||):||\\r|...</td>\n    </tr>\n    <tr>\n      <th>21</th>\n      <td>258</td>\n      <td>4.347826</td>\n      <td>def ascii_value(k):\\r\\n  ch=k\\r\\n  return ord(ch)</td>\n      <td>def|| as||ci||i||_||value||(||k||):||\\r||\\n|| ...</td>\n      <td>def|| asc||ii||_||value||(||k||):||\\r||\\n|| ||...</td>\n    </tr>\n    <tr>\n      <th>22</th>\n      <td>263</td>\n      <td>2.777778</td>\n      <td>import math  \\r\\ndef even_binomial_Coeff_Sum( ...</td>\n      <td>import|| math|| || ||\\r||\\n||def|| even||_||bi...</td>\n      <td>import|| math|| || ||\\r||\\n||def|| even||_||bi...</td>\n    </tr>\n    <tr>\n      <th>23</th>\n      <td>275</td>\n      <td>0.657895</td>\n      <td>def max_sub_array_sum_repeated(a, n, k): \\r\\n\\...</td>\n      <td>def|| max||_||sub||_||array||_||sum||_||repe||...</td>\n      <td>def|| max||_||sub||_||array||_||sum||_||repe||...</td>\n    </tr>\n    <tr>\n      <th>24</th>\n      <td>280</td>\n      <td>0.800000</td>\n      <td>def count_no_of_ways(n, k): \\r\\n\\tdp = [0] * (...</td>\n      <td>def|| count||_||no||_||of||_||ways||(||n||,|| ...</td>\n      <td>def|| count||_||no||_||of||_||ways||(||n||,|| ...</td>\n    </tr>\n    <tr>\n      <th>25</th>\n      <td>284</td>\n      <td>3.571429</td>\n      <td>def sum_div(number):\\r\\n    divisors = [1]\\r\\n...</td>\n      <td>def|| sum||_||div||(||number||):||\\r||\\n|| || ...</td>\n      <td>def|| sum||_||div||(||number||):||\\r||\\n|| || ...</td>\n    </tr>\n    <tr>\n      <th>26</th>\n      <td>296</td>\n      <td>9.230769</td>\n      <td>from copy import deepcopy\\r\\ndef colon_tuplex(...</td>\n      <td>from|| copy|| import|| deep||copy||\\r||\\n||def...</td>\n      <td>from|| copy|| import|| deep||copy||\\r||\\n||def...</td>\n    </tr>\n    <tr>\n      <th>27</th>\n      <td>306</td>\n      <td>0.877193</td>\n      <td>from itertools import groupby\\r\\ndef modified_...</td>\n      <td>from|| it||ert||ools|| import|| group||by||\\r|...</td>\n      <td>from|| iter||tools|| import|| group||by||\\r||\\...</td>\n    </tr>\n    <tr>\n      <th>28</th>\n      <td>328</td>\n      <td>2.272727</td>\n      <td>def find_Divisor(x,y):  \\r\\n    if (x==y): \\r\\...</td>\n      <td>def|| find||_||Div||is||or||(||x||,||y||):|| |...</td>\n      <td>def|| find||_||Di||visor||(||x||,||y||):|| || ...</td>\n    </tr>\n    <tr>\n      <th>29</th>\n      <td>331</td>\n      <td>1.168224</td>\n      <td>from heapq import heappop, heappush\\r\\nclass N...</td>\n      <td>from|| heap||q|| import|| he||app||op||,|| he|...</td>\n      <td>from|| heap||q|| import|| heap||pop||,|| heap|...</td>\n    </tr>\n    <tr>\n      <th>30</th>\n      <td>332</td>\n      <td>1.020408</td>\n      <td>def dig_let(s):\\r\\n d=l=0\\r\\n for c in s:\\r\\n ...</td>\n      <td>def|| dig||_||let||(||s||):||\\r||\\n|| d||=||l|...</td>\n      <td>def|| dig||_||let||(||s||):||\\r||\\n|| d||=||l|...</td>\n    </tr>\n    <tr>\n      <th>31</th>\n      <td>334</td>\n      <td>2.040816</td>\n      <td>def diff_consecutivenums(nums):\\r\\n    result ...</td>\n      <td>def|| diff||_||con||secut||iven||ums||(||n||um...</td>\n      <td>def|| diff||_||con||secut||iven||ums||(||n||um...</td>\n    </tr>\n    <tr>\n      <th>32</th>\n      <td>358</td>\n      <td>5.405405</td>\n      <td>def lateralsurface_cuboid(l,w,h):\\r\\n  LSA = 2...</td>\n      <td>def|| later||als||ur||face||_||c||ub||oid||(||...</td>\n      <td>def|| lateral||surface||_||c||ub||oid||(||l||,...</td>\n    </tr>\n    <tr>\n      <th>33</th>\n      <td>363</td>\n      <td>0.473934</td>\n      <td>def permute_string(str):\\r\\n    if len(str) ==...</td>\n      <td>def|| perm||ute||_||string||(||str||):||\\r||\\n...</td>\n      <td>def|| perm||ute||_||string||(||str||):||\\r||\\n...</td>\n    </tr>\n    <tr>\n      <th>34</th>\n      <td>378</td>\n      <td>4.411765</td>\n      <td>def find_lucas(n): \\r\\n\\tif (n == 0): \\r\\n\\t\\t...</td>\n      <td>def|| find||_||l||uc||as||(||n||):|| ||\\r||\\n|...</td>\n      <td>def|| find||_||lu||cas||(||n||):|| ||\\r||\\n||\\...</td>\n    </tr>\n    <tr>\n      <th>35</th>\n      <td>387</td>\n      <td>2.380952</td>\n      <td>def sum_of_digits(nums):\\r\\n    return sum(int...</td>\n      <td>def|| sum||_||of||_||dig||its||(||n||ums||):||...</td>\n      <td>def|| sum||_||of||_||dig||its||(||n||ums||):||...</td>\n    </tr>\n    <tr>\n      <th>36</th>\n      <td>394</td>\n      <td>6.382979</td>\n      <td>def check_tuplex(tuplex,tuple1): \\r\\n  if tupl...</td>\n      <td>def|| check||_||t||up||lex||(||t||up||lex||,||...</td>\n      <td>def|| check||_||tu||plex||(||tu||plex||,||t||u...</td>\n    </tr>\n    <tr>\n      <th>37</th>\n      <td>408</td>\n      <td>3.571429</td>\n      <td>def round_and_sum(list1):\\r\\n  lenght=len(list...</td>\n      <td>def|| round||_||and||_||sum||(||list||1||):||\\...</td>\n      <td>def|| round||_||and||_||sum||(||list||1||):||\\...</td>\n    </tr>\n    <tr>\n      <th>38</th>\n      <td>427</td>\n      <td>2.307692</td>\n      <td>def count_bidirectional(test_list):\\r\\n  res =...</td>\n      <td>def|| count||_||bid||irection||al||(||test||_|...</td>\n      <td>def|| count||_||bi||direct||ional||(||test||_|...</td>\n    </tr>\n    <tr>\n      <th>39</th>\n      <td>448</td>\n      <td>1.724138</td>\n      <td>import re\\r\\ndef remove_uppercase(str1):\\r\\n  ...</td>\n      <td>import|| re||\\r||\\n||def|| remove||_||upp||erc...</td>\n      <td>import|| re||\\r||\\n||def|| remove||_||upper||c...</td>\n    </tr>\n    <tr>\n      <th>40</th>\n      <td>474</td>\n      <td>3.365385</td>\n      <td>def is_palindrome(n) : \\r\\n\\tdivisor = 1\\r\\n\\t...</td>\n      <td>def|| is||_||pal||ind||rome||(||n||)|| :|| ||\\...</td>\n      <td>def|| is||_||pal||ind||rome||(||n||)|| :|| ||\\...</td>\n    </tr>\n    <tr>\n      <th>41</th>\n      <td>478</td>\n      <td>0.645161</td>\n      <td>def frequency_Of_Largest(n,arr): \\r\\n    mn = ...</td>\n      <td>def|| frequency||_||Of||_||L||arg||est||(||n||...</td>\n      <td>def|| frequency||_||Of||_||Large||st||(||n||,|...</td>\n    </tr>\n    <tr>\n      <th>42</th>\n      <td>492</td>\n      <td>1.960784</td>\n      <td>def add_consecutive_nums(nums):\\r\\n    result ...</td>\n      <td>def|| add||_||con||secut||ive||_||n||ums||(||n...</td>\n      <td>def|| add||_||con||sec||utive||_||n||ums||(||n...</td>\n    </tr>\n  </tbody>\n</table>\n</div>"
     },
     "execution_count": 54,
     "metadata": {},
     "output_type": "execute_result"
    }
   ],
   "source": [
    "df"
   ],
   "metadata": {
    "collapsed": false,
    "ExecuteTime": {
     "end_time": "2024-02-17T21:30:19.726377Z",
     "start_time": "2024-02-17T21:30:18.962565Z"
    }
   },
   "id": "b115e4f1732abfaa"
  },
  {
   "cell_type": "code",
   "execution_count": 57,
   "outputs": [
    {
     "data": {
      "text/plain": "original_tokenization    def|| sum||_||neg||at||iven||um||(||n||ums||):...\ndp_tokenization          def|| sum||_||negative||num||(||n||ums||):||\\r...\nName: 7, dtype: object"
     },
     "execution_count": 57,
     "metadata": {},
     "output_type": "execute_result"
    }
   ],
   "source": [
    "df.loc[7, ['original_tokenization', 'dp_tokenization']]"
   ],
   "metadata": {
    "collapsed": false,
    "ExecuteTime": {
     "end_time": "2024-02-17T21:31:29.020538Z",
     "start_time": "2024-02-17T21:31:28.837271Z"
    }
   },
   "id": "49ef36640631a9de"
  },
  {
   "cell_type": "code",
   "execution_count": 59,
   "outputs": [],
   "source": [
    "df.to_excel(\"results.xlsx\")"
   ],
   "metadata": {
    "collapsed": false,
    "ExecuteTime": {
     "end_time": "2024-02-17T21:37:57.014660Z",
     "start_time": "2024-02-17T21:37:56.019486Z"
    }
   },
   "id": "635598d40009ce86"
  },
  {
   "cell_type": "code",
   "execution_count": null,
   "outputs": [],
   "source": [],
   "metadata": {
    "collapsed": false
   },
   "id": "87b77d45cfed42a4"
  }
 ],
 "metadata": {
  "kernelspec": {
   "display_name": "Python 3",
   "language": "python",
   "name": "python3"
  },
  "language_info": {
   "codemirror_mode": {
    "name": "ipython",
    "version": 2
   },
   "file_extension": ".py",
   "mimetype": "text/x-python",
   "name": "python",
   "nbconvert_exporter": "python",
   "pygments_lexer": "ipython2",
   "version": "2.7.6"
  }
 },
 "nbformat": 4,
 "nbformat_minor": 5
}
