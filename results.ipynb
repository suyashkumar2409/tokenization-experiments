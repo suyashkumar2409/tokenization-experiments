{
 "cells": [
  {
   "cell_type": "code",
   "execution_count": 1,
   "id": "initial_id",
   "metadata": {
    "collapsed": true,
    "ExecuteTime": {
     "end_time": "2024-03-04T21:18:44.564734Z",
     "start_time": "2024-03-04T21:18:43.021574Z"
    }
   },
   "outputs": [],
   "source": [
    "import pandas as pd\n",
    "import yaml\n",
    "import pickle\n",
    "from transformers import AutoTokenizer\n",
    "from datasets import load_dataset\n",
    "from tokenizers.pre_tokenizers import Sequence\n",
    "from tokenizers import NormalizedString, PreTokenizedString\n",
    "from tokenizers.pre_tokenizers import PreTokenizer\n",
    "from DPSplitter import DPSplitter\n",
    "from typing import List\n",
    "from bidict import bidict\n",
    "\n",
    "from main import DPTokenizer\n",
    "from main import DPTokenizer2\n",
    "from tqdm import tqdm"
   ]
  },
  {
   "cell_type": "markdown",
   "source": [
    "# LlamaTokenizer experiments"
   ],
   "metadata": {
    "collapsed": false
   },
   "id": "7f324e88a355507e"
  },
  {
   "cell_type": "code",
   "execution_count": 2,
   "outputs": [],
   "source": [
    "llamatokenizer = AutoTokenizer.from_pretrained('/Users/suyashkr/tokenization/llama', use_fast=False,\n",
    "                                               add_bos_token=False)\n",
    "vocab = llamatokenizer.get_vocab()"
   ],
   "metadata": {
    "collapsed": false,
    "ExecuteTime": {
     "end_time": "2024-03-04T21:18:45.626868Z",
     "start_time": "2024-03-04T21:18:45.490486Z"
    }
   },
   "id": "520df263bfa266c0"
  },
  {
   "cell_type": "code",
   "execution_count": 3,
   "outputs": [],
   "source": [
    "vocab_bidict = bidict(vocab)"
   ],
   "metadata": {
    "collapsed": false,
    "ExecuteTime": {
     "end_time": "2024-03-04T21:18:45.857310Z",
     "start_time": "2024-03-04T21:18:45.855517Z"
    }
   },
   "id": "4e6b488fecc6bc5e"
  },
  {
   "cell_type": "code",
   "execution_count": 4,
   "outputs": [
    {
     "data": {
      "text/plain": "'<0x09>'"
     },
     "execution_count": 4,
     "metadata": {},
     "output_type": "execute_result"
    }
   ],
   "source": [
    "vocab_bidict.inverse[12]"
   ],
   "metadata": {
    "collapsed": false,
    "ExecuteTime": {
     "end_time": "2024-03-04T21:18:46.206124Z",
     "start_time": "2024-03-04T21:18:46.198770Z"
    }
   },
   "id": "51fd434f39933c64"
  },
  {
   "cell_type": "code",
   "execution_count": 5,
   "outputs": [
    {
     "data": {
      "text/plain": "{'<unk>': 0,\n '<s>': 1,\n '</s>': 2,\n '<0x00>': 3,\n '<0x01>': 4,\n '<0x02>': 5,\n '<0x03>': 6,\n '<0x04>': 7,\n '<0x05>': 8,\n '<0x06>': 9,\n '<0x07>': 10,\n '<0x08>': 11,\n '<0x09>': 12,\n '<0x0A>': 13,\n '<0x0B>': 14,\n '<0x0C>': 15,\n '<0x0D>': 16,\n '<0x0E>': 17,\n '<0x0F>': 18,\n '<0x10>': 19,\n '<0x11>': 20,\n '<0x12>': 21,\n '<0x13>': 22,\n '<0x14>': 23,\n '<0x15>': 24,\n '<0x16>': 25,\n '<0x17>': 26,\n '<0x18>': 27,\n '<0x19>': 28,\n '<0x1A>': 29,\n '<0x1B>': 30,\n '<0x1C>': 31,\n '<0x1D>': 32,\n '<0x1E>': 33,\n '<0x1F>': 34,\n '<0x20>': 35,\n '<0x21>': 36,\n '<0x22>': 37,\n '<0x23>': 38,\n '<0x24>': 39,\n '<0x25>': 40,\n '<0x26>': 41,\n '<0x27>': 42,\n '<0x28>': 43,\n '<0x29>': 44,\n '<0x2A>': 45,\n '<0x2B>': 46,\n '<0x2C>': 47,\n '<0x2D>': 48,\n '<0x2E>': 49,\n '<0x2F>': 50,\n '<0x30>': 51,\n '<0x31>': 52,\n '<0x32>': 53,\n '<0x33>': 54,\n '<0x34>': 55,\n '<0x35>': 56,\n '<0x36>': 57,\n '<0x37>': 58,\n '<0x38>': 59,\n '<0x39>': 60,\n '<0x3A>': 61,\n '<0x3B>': 62,\n '<0x3C>': 63,\n '<0x3D>': 64,\n '<0x3E>': 65,\n '<0x3F>': 66,\n '<0x40>': 67,\n '<0x41>': 68,\n '<0x42>': 69,\n '<0x43>': 70,\n '<0x44>': 71,\n '<0x45>': 72,\n '<0x46>': 73,\n '<0x47>': 74,\n '<0x48>': 75,\n '<0x49>': 76,\n '<0x4A>': 77,\n '<0x4B>': 78,\n '<0x4C>': 79,\n '<0x4D>': 80,\n '<0x4E>': 81,\n '<0x4F>': 82,\n '<0x50>': 83,\n '<0x51>': 84,\n '<0x52>': 85,\n '<0x53>': 86,\n '<0x54>': 87,\n '<0x55>': 88,\n '<0x56>': 89,\n '<0x57>': 90,\n '<0x58>': 91,\n '<0x59>': 92,\n '<0x5A>': 93,\n '<0x5B>': 94,\n '<0x5C>': 95,\n '<0x5D>': 96,\n '<0x5E>': 97,\n '<0x5F>': 98,\n '<0x60>': 99,\n '<0x61>': 100,\n '<0x62>': 101,\n '<0x63>': 102,\n '<0x64>': 103,\n '<0x65>': 104,\n '<0x66>': 105,\n '<0x67>': 106,\n '<0x68>': 107,\n '<0x69>': 108,\n '<0x6A>': 109,\n '<0x6B>': 110,\n '<0x6C>': 111,\n '<0x6D>': 112,\n '<0x6E>': 113,\n '<0x6F>': 114,\n '<0x70>': 115,\n '<0x71>': 116,\n '<0x72>': 117,\n '<0x73>': 118,\n '<0x74>': 119,\n '<0x75>': 120,\n '<0x76>': 121,\n '<0x77>': 122,\n '<0x78>': 123,\n '<0x79>': 124,\n '<0x7A>': 125,\n '<0x7B>': 126,\n '<0x7C>': 127,\n '<0x7D>': 128,\n '<0x7E>': 129,\n '<0x7F>': 130,\n '<0x80>': 131,\n '<0x81>': 132,\n '<0x82>': 133,\n '<0x83>': 134,\n '<0x84>': 135,\n '<0x85>': 136,\n '<0x86>': 137,\n '<0x87>': 138,\n '<0x88>': 139,\n '<0x89>': 140,\n '<0x8A>': 141,\n '<0x8B>': 142,\n '<0x8C>': 143,\n '<0x8D>': 144,\n '<0x8E>': 145,\n '<0x8F>': 146,\n '<0x90>': 147,\n '<0x91>': 148,\n '<0x92>': 149,\n '<0x93>': 150,\n '<0x94>': 151,\n '<0x95>': 152,\n '<0x96>': 153,\n '<0x97>': 154,\n '<0x98>': 155,\n '<0x99>': 156,\n '<0x9A>': 157,\n '<0x9B>': 158,\n '<0x9C>': 159,\n '<0x9D>': 160,\n '<0x9E>': 161,\n '<0x9F>': 162,\n '<0xA0>': 163,\n '<0xA1>': 164,\n '<0xA2>': 165,\n '<0xA3>': 166,\n '<0xA4>': 167,\n '<0xA5>': 168,\n '<0xA6>': 169,\n '<0xA7>': 170,\n '<0xA8>': 171,\n '<0xA9>': 172,\n '<0xAA>': 173,\n '<0xAB>': 174,\n '<0xAC>': 175,\n '<0xAD>': 176,\n '<0xAE>': 177,\n '<0xAF>': 178,\n '<0xB0>': 179,\n '<0xB1>': 180,\n '<0xB2>': 181,\n '<0xB3>': 182,\n '<0xB4>': 183,\n '<0xB5>': 184,\n '<0xB6>': 185,\n '<0xB7>': 186,\n '<0xB8>': 187,\n '<0xB9>': 188,\n '<0xBA>': 189,\n '<0xBB>': 190,\n '<0xBC>': 191,\n '<0xBD>': 192,\n '<0xBE>': 193,\n '<0xBF>': 194,\n '<0xC0>': 195,\n '<0xC1>': 196,\n '<0xC2>': 197,\n '<0xC3>': 198,\n '<0xC4>': 199,\n '<0xC5>': 200,\n '<0xC6>': 201,\n '<0xC7>': 202,\n '<0xC8>': 203,\n '<0xC9>': 204,\n '<0xCA>': 205,\n '<0xCB>': 206,\n '<0xCC>': 207,\n '<0xCD>': 208,\n '<0xCE>': 209,\n '<0xCF>': 210,\n '<0xD0>': 211,\n '<0xD1>': 212,\n '<0xD2>': 213,\n '<0xD3>': 214,\n '<0xD4>': 215,\n '<0xD5>': 216,\n '<0xD6>': 217,\n '<0xD7>': 218,\n '<0xD8>': 219,\n '<0xD9>': 220,\n '<0xDA>': 221,\n '<0xDB>': 222,\n '<0xDC>': 223,\n '<0xDD>': 224,\n '<0xDE>': 225,\n '<0xDF>': 226,\n '<0xE0>': 227,\n '<0xE1>': 228,\n '<0xE2>': 229,\n '<0xE3>': 230,\n '<0xE4>': 231,\n '<0xE5>': 232,\n '<0xE6>': 233,\n '<0xE7>': 234,\n '<0xE8>': 235,\n '<0xE9>': 236,\n '<0xEA>': 237,\n '<0xEB>': 238,\n '<0xEC>': 239,\n '<0xED>': 240,\n '<0xEE>': 241,\n '<0xEF>': 242,\n '<0xF0>': 243,\n '<0xF1>': 244,\n '<0xF2>': 245,\n '<0xF3>': 246,\n '<0xF4>': 247,\n '<0xF5>': 248,\n '<0xF6>': 249,\n '<0xF7>': 250,\n '<0xF8>': 251,\n '<0xF9>': 252,\n '<0xFA>': 253,\n '<0xFB>': 254,\n '<0xFC>': 255,\n '<0xFD>': 256,\n '<0xFE>': 257,\n '<0xFF>': 258,\n '▁▁': 259,\n '▁t': 260,\n 'er': 261,\n 'in': 262,\n '▁a': 263,\n 'en': 264,\n 'on': 265,\n '▁th': 266,\n 'es': 267,\n '▁▁▁▁': 268,\n '▁s': 269,\n '▁d': 270,\n 'at': 271,\n 'or': 272,\n 'an': 273,\n '▁c': 274,\n 'is': 275,\n 're': 276,\n 'it': 277,\n '▁the': 278,\n 'ar': 279,\n 'le': 280,\n '▁w': 281,\n '▁p': 282,\n 'ou': 283,\n 'al': 284,\n '▁f': 285,\n '▁m': 286,\n 'ed': 287,\n '▁o': 288,\n '▁b': 289,\n 'om': 290,\n 'ion': 291,\n 'ing': 292,\n 'ic': 293,\n 'as': 294,\n 'el': 295,\n 'ent': 296,\n '▁in': 297,\n '▁h': 298,\n 'nd': 299,\n 'et': 300,\n '▁l': 301,\n '▁n': 302,\n 'st': 303,\n '▁to': 304,\n 'ch': 305,\n '▁I': 306,\n 'ro': 307,\n '▁▁▁▁▁▁▁▁': 308,\n 'il': 309,\n '▁of': 310,\n 'de': 311,\n 'ct': 312,\n '▁(': 313,\n 'am': 314,\n '▁C': 315,\n '▁de': 316,\n '▁S': 317,\n '▁u': 318,\n '▁A': 319,\n '▁\\\\': 320,\n '▁e': 321,\n '▁and': 322,\n '▁T': 323,\n 'ol': 324,\n '▁v': 325,\n 'im': 326,\n 'ot': 327,\n 'ad': 328,\n 'ut': 329,\n '▁g': 330,\n 'em': 331,\n 'ur': 332,\n 'id': 333,\n '▁*': 334,\n 'ig': 335,\n 'ra': 336,\n '▁re': 337,\n '▁is': 338,\n 'qu': 339,\n 'ow': 340,\n '▁M': 341,\n 'est': 342,\n '▁y': 343,\n 'se': 344,\n 've': 345,\n 'ce': 346,\n 'ie': 347,\n 'un': 348,\n '▁P': 349,\n '▁B': 350,\n 'ag': 351,\n 'ul': 352,\n '▁=': 353,\n 'he': 354,\n 'end': 355,\n 'ode': 356,\n 'ter': 357,\n 'ment': 358,\n 'os': 359,\n '▁D': 360,\n 'if': 361,\n 'ation': 362,\n '▁for': 363,\n '▁r': 364,\n '▁L': 365,\n '▁you': 366,\n '▁be': 367,\n 'ly': 368,\n 'ver': 369,\n 'ab': 370,\n 'te': 371,\n '▁it': 372,\n '▁on': 373,\n 'ri': 374,\n 'us': 375,\n '▁\"': 376,\n '▁wh': 377,\n '▁con': 378,\n '▁H': 379,\n '▁st': 380,\n 'ir': 381,\n '▁E': 382,\n '▁F': 383,\n 'ck': 384,\n '▁an': 385,\n 'th': 386,\n 'eg': 387,\n 'ay': 388,\n 'ith': 389,\n '▁R': 390,\n 'ist': 391,\n 'and': 392,\n '▁that': 393,\n '▁al': 394,\n '▁$': 395,\n '▁#': 396,\n 'od': 397,\n 'um': 398,\n '▁W': 399,\n 'ht': 400,\n 'code': 401,\n '▁G': 402,\n 'ate': 403,\n 'ess': 404,\n '▁N': 405,\n 'ere': 406,\n 'pp': 407,\n '▁as': 408,\n '▁se': 409,\n '▁pro': 410,\n '▁with': 411,\n 'pe': 412,\n '▁k': 413,\n 'ers': 414,\n 'pt': 415,\n ');': 416,\n 'lo': 417,\n '▁▁▁▁▁': 418,\n '▁com': 419,\n 'ame': 420,\n '▁`': 421,\n '▁Com': 422,\n 'ia': 423,\n 'ant': 424,\n '▁la': 425,\n '▁{': 426,\n '▁en': 427,\n 'ction': 428,\n '▁ex': 429,\n 'ld': 430,\n 'ub': 431,\n '▁j': 432,\n 'la': 433,\n 'ue': 434,\n '▁J': 435,\n 'ich': 436,\n '▁do': 437,\n '▁O': 438,\n '▁qu': 439,\n 'iv': 440,\n 'ort': 441,\n 'art': 442,\n '▁un': 443,\n '▁##': 444,\n '▁this': 445,\n 'ke': 446,\n '▁ha': 447,\n '▁-': 448,\n 'out': 449,\n '▁The': 450,\n '▁not': 451,\n '▁ne': 452,\n 'ill': 453,\n '▁le': 454,\n 'ci': 455,\n 'rom': 456,\n 'ine': 457,\n '//': 458,\n 'op': 459,\n 'egin': 460,\n '▁Comment': 461,\n '▁▁▁▁▁▁▁▁▁▁▁▁▁▁▁▁': 462,\n 'begin': 463,\n 'ст': 464,\n 'ass': 465,\n 'iz': 466,\n ').': 467,\n 'og': 468,\n '▁п': 469,\n '▁or': 470,\n '▁was': 471,\n '▁at': 472,\n 'our': 473,\n '▁i': 474,\n 'ain': 475,\n '▁K': 476,\n 'на': 477,\n '▁V': 478,\n 'ge': 479,\n '▁su': 480,\n 'ap': 481,\n 'age': 482,\n 'ould': 483,\n 'ne': 484,\n 'av': 485,\n 'xt': 486,\n 'ore': 487,\n 'ile': 488,\n '--': 489,\n '▁в': 490,\n '▁by': 491,\n 'li': 492,\n 'ath': 493,\n 'ра': 494,\n 'ber': 495,\n 'ach': 496,\n 'all': 497,\n '▁Th': 498,\n 'ult': 499,\n '▁}': 500,\n '▁U': 501,\n '▁us': 502,\n '▁z': 503,\n 'ust': 504,\n '▁have': 505,\n 'lic': 506,\n 'ни': 507,\n '▁can': 508,\n 'tr': 509,\n 'com': 510,\n '),': 511,\n '▁In': 512,\n 'ind': 513,\n 'ell': 514,\n '▁from': 515,\n 'ов': 516,\n 'to': 517,\n '▁[': 518,\n 'able': 519,\n 'ost': 520,\n '▁ch': 521,\n 'ect': 522,\n 'ight': 523,\n 'int': 524,\n \"▁'\": 525,\n '▁are': 526,\n '▁im': 527,\n '▁sh': 528,\n '▁<': 529,\n '▁An': 530,\n '▁с': 531,\n 'ata': 532,\n 'ire': 533,\n '▁tr': 534,\n 'con': 535,\n 'ord': 536,\n 'ity': 537,\n 'ard': 538,\n '▁▁▁▁▁▁': 539,\n '▁he': 540,\n '▁but': 541,\n 'oc': 542,\n '=\"': 543,\n '▁pr': 544,\n 'ure': 545,\n 'per': 546,\n 'ack': 547,\n 'ork': 548,\n 'ong': 549,\n 'ans': 550,\n 'ко': 551,\n 'ple': 552,\n '▁des': 553,\n 'ok': 554,\n 'orm': 555,\n 'wer': 556,\n 'ak': 557,\n 'pr': 558,\n 'ase': 559,\n '▁el': 560,\n 'ph': 561,\n 'ac': 562,\n '▁und': 563,\n '▁ar': 564,\n '▁if': 565,\n 'ud': 566,\n 'ps': 567,\n 'ite': 568,\n 'ble': 569,\n 'но': 570,\n 'fer': 571,\n 'pl': 572,\n 'ive': 573,\n 'ang': 574,\n 'ens': 575,\n 'ро': 576,\n '▁so': 577,\n 'so': 578,\n 'ast': 579,\n '()': 580,\n 'swer': 581,\n 'ru': 582,\n 'ies': 583,\n '▁:': 584,\n 'au': 585,\n 'ov': 586,\n 'ре': 587,\n 'го': 588,\n '▁der': 589,\n '▁my': 590,\n '▁we': 591,\n '▁me': 592,\n 'nt': 593,\n '▁ad': 594,\n 'urn': 595,\n '▁your': 596,\n '://': 597,\n 'are': 598,\n '▁all': 599,\n 'ff': 600,\n 'io': 601,\n 'estion': 602,\n 'ime': 603,\n '▁er': 604,\n 'lass': 605,\n '▁и': 606,\n '▁which': 607,\n 'ome': 608,\n 'ont': 609,\n '▁par': 610,\n '▁ma': 611,\n '▁Y': 612,\n '\",': 613,\n '▁о': 614,\n 'ft': 615,\n 'ial': 616,\n 'cc': 617,\n 'ound': 618,\n '▁li': 619,\n '▁res': 620,\n 'eth': 621,\n 'ject': 622,\n '▁app': 623,\n '▁St': 624,\n 'ice': 625,\n '▁am': 626,\n 'act': 627,\n '▁del': 628,\n 'gr': 629,\n 'ated': 630,\n 'ier': 631,\n '▁▁▁▁▁▁▁▁▁▁▁▁': 632,\n '▁ab': 633,\n '▁et': 634,\n 'ally': 635,\n '..': 636,\n 'port': 637,\n 'ik': 638,\n '▁per': 639,\n '▁cont': 640,\n 'ри': 641,\n 'ка': 642,\n 'ser': 643,\n 'ли': 644,\n 'll': 645,\n 'iew': 646,\n 'ign': 647,\n '_{': 648,\n 'put': 649,\n 'one': 650,\n 'unction': 651,\n '▁di': 652,\n 'ary': 653,\n 'ition': 654,\n 'ma': 655,\n 'ен': 656,\n 'get': 657,\n '▁lo': 658,\n '▁val': 659,\n '▁Q': 660,\n 'ran': 661,\n '▁д': 662,\n 'ence': 663,\n '▁work': 664,\n '▁на': 665,\n 'ip': 666,\n 'item': 667,\n 'ype': 668,\n '▁&': 669,\n '▁his': 670,\n '▁use': 671,\n 'der': 672,\n '▁Answer': 673,\n '▁will': 674,\n 'ize': 675,\n 'та': 676,\n 'low': 677,\n '▁Ch': 678,\n '▁get': 679,\n 'ide': 680,\n 'ous': 681,\n 'ink': 682,\n 'ption': 683,\n 'ла': 684,\n 'turn': 685,\n 'ung': 686,\n 'ec': 687,\n 'ug': 688,\n 'form': 689,\n 'res': 690,\n 'htt': 691,\n 'oug': 692,\n 'ль': 693,\n '▁no': 694,\n 'cl': 695,\n '▁ro': 696,\n '▁one': 697,\n 'tt': 698,\n 'cri': 699,\n 'du': 700,\n '▁up': 701,\n 'то': 702,\n '(\"': 703,\n '▁ob': 704,\n 'we': 705,\n 'ory': 706,\n '▁est': 707,\n 'ery': 708,\n 'iel': 709,\n 'str': 710,\n 'ob': 711,\n '▁que': 712,\n 'ian': 713,\n '▁out': 714,\n '▁pl': 715,\n '▁new': 716,\n 'ки': 717,\n '▁+': 718,\n 'ry': 719,\n 'oth': 720,\n 'ther': 721,\n '▁var': 722,\n '▁would': 723,\n '▁ser': 724,\n 'tern': 725,\n 'text': 726,\n '▁there': 727,\n 'ish': 728,\n 'ror': 729,\n 'те': 730,\n '▁set': 731,\n '▁@': 732,\n '▁по': 733,\n '▁te': 734,\n 'ex': 735,\n '▁return': 736,\n 'ail': 737,\n '▁any': 738,\n '▁It': 739,\n '▁function': 740,\n '{\\\\': 741,\n \"',\": 742,\n 'és': 743,\n 'ale': 744,\n 'ан': 745,\n '▁when': 746,\n 'ib': 747,\n '▁go': 748,\n 'ance': 749,\n '▁had': 750,\n '▁Qu': 751,\n '▁comp': 752,\n 'ле': 753,\n '▁з': 754,\n 'math': 755,\n '▁has': 756,\n '▁м': 757,\n '▁pre': 758,\n 'ener': 759,\n '▁part': 760,\n 'elf': 761,\n '▁die': 762,\n '▁like': 763,\n 'ray': 764,\n 'irst': 765,\n '▁dis': 766,\n '▁man': 767,\n 'rit': 768,\n '▁then': 769,\n '▁class': 770,\n 'pro': 771,\n '▁po': 772,\n '▁using': 773,\n 'eb': 774,\n '▁code': 775,\n 'own': 776,\n '▁some': 777,\n 'ces': 778,\n '▁$\\\\': 779,\n 'ер': 780,\n 'lect': 781,\n '▁au': 782,\n 'isch': 783,\n '▁col': 784,\n '▁–': 785,\n 'up': 786,\n 'ons': 787,\n '▁add': 788,\n 'ild': 789,\n 'iss': 790,\n 'val': 791,\n 'ount': 792,\n 'les': 793,\n 'vent': 794,\n '▁▁▁▁▁▁▁▁▁▁▁▁▁': 795,\n '▁Z': 796,\n 'In': 797,\n 'row': 798,\n 'ear': 799,\n 'ations': 800,\n 'ah': 801,\n 'que': 802,\n 'ublic': 803,\n 'ank': 804,\n '▁sp': 805,\n '▁Wh': 806,\n '----': 807,\n 'sk': 808,\n 'ew': 809,\n 'ags': 810,\n 'ти': 811,\n 'ann': 812,\n '▁—': 813,\n 'ert': 814,\n 'ace': 815,\n 'sch': 816,\n '▁need': 817,\n '▁à': 818,\n 'ien': 819,\n 'ough': 820,\n 'не': 821,\n '▁def': 822,\n 'ij': 823,\n 'ern': 824,\n '▁what': 825,\n '▁Ar': 826,\n 'wo': 827,\n 'ml': 828,\n '</': 829,\n '▁Re': 830,\n '▁es': 831,\n '▁inst': 832,\n 'bo': 833,\n 'az': 834,\n '▁###': 835,\n '▁б': 836,\n 'erm': 837,\n '▁Al': 838,\n 'led': 839,\n 'да': 840,\n 'ten': 841,\n 'set': 842,\n 'ло': 843,\n '▁comm': 844,\n 'sh': 845,\n 'ва': 846,\n '▁/': 847,\n '▁data': 848,\n '▁//': 849,\n '](': 850,\n '▁str': 851,\n 'ose': 852,\n '▁Un': 853,\n 'ven': 854,\n 'St': 855,\n '...': 856,\n '▁С': 857,\n 'yst': 858,\n '▁«': 859,\n 'ick': 860,\n 'ix': 861,\n 'par': 862,\n '▁у': 863,\n '▁want': 864,\n 'ng': 865,\n 'ote': 866,\n '▁gr': 867,\n '▁du': 868,\n '▁.': 869,\n 'und': 870,\n '▁only': 871,\n '▁sa': 872,\n 'ely': 873,\n 'vers': 874,\n '▁ent': 875,\n '))': 876,\n \"('\": 877,\n '▁mod': 878,\n 'ava': 879,\n 'ton': 880,\n '▁should': 881,\n 'ement': 882,\n '▁form': 883,\n '▁also': 884,\n '▁sc': 885,\n 'ings': 886,\n '▁You': 887,\n 'ón': 888,\n '▁kn': 889,\n '();': 890,\n '▁|': 891,\n '▁were': 892,\n 'ss': 893,\n '▁Question': 894,\n 'ise': 895,\n '▁they': 896,\n '▁De': 897,\n 'ond': 898,\n '▁sol': 899,\n '▁fol': 900,\n '▁more': 901,\n '▁her': 902,\n '▁_': 903,\n '▁é': 904,\n 'atch': 905,\n 'fter': 906,\n '▁cre': 907,\n 'lock': 908,\n 'tring': 909,\n '▁This': 910,\n 'ze': 911,\n 'ado': 912,\n 'ull': 913,\n 'ger': 914,\n 'be': 915,\n '▁other': 916,\n '▁Tags': 917,\n 'ution': 918,\n 'ict': 919,\n '▁how': 920,\n '▁x': 921,\n '▁Se': 922,\n '▁che': 923,\n 'cript': 924,\n '▁just': 925,\n '▁pos': 926,\n 'ange': 927,\n 'ific': 928,\n 'ree': 929,\n '}}': 930,\n '▁time': 931,\n 'app': 932,\n 'ны': 933,\n '▁file': 934,\n 'ark': 935,\n 'ical': 936,\n '▁first': 937,\n '▁int': 938,\n '▁В': 939,\n '▁He': 940,\n 'ta': 941,\n 'ument': 942,\n 'ors': 943,\n 'lement': 944,\n 'rac': 945,\n '▁ag': 946,\n '▁does': 947,\n 'yn': 948,\n 'read': 949,\n 'ual': 950,\n '▁Le': 951,\n 'ys': 952,\n '▁em': 953,\n '▁num': 954,\n 'vel': 955,\n 'ди': 956,\n 'over': 957,\n '▁dif': 958,\n 'ethod': 959,\n '▁If': 960,\n '▁spe': 961,\n 'ym': 962,\n '▁them': 963,\n '▁into': 964,\n '▁▁▁▁▁▁▁▁▁▁': 965,\n '▁les': 966,\n '▁its': 967,\n 'ese': 968,\n 'ield': 969,\n '▁public': 970,\n '▁П': 971,\n '▁den': 972,\n 'ystem': 973,\n 'of': 974,\n '▁over': 975,\n '->': 976,\n '▁fil': 977,\n 'name': 978,\n 'inal': 979,\n '▁il': 980,\n 'ample': 981,\n '▁way': 982,\n 'ica': 983,\n 'во': 984,\n 'cess': 985,\n 'itt': 986,\n 'uch': 987,\n '▁where': 988,\n 'ми': 989,\n 'org': 990,\n 'https': 991,\n '▁vo': 992,\n 'ient': 993,\n 'ove': 994,\n '▁value': 995,\n 'eng': 996,\n '▁La': 997,\n '^{': 998,\n 'ref': 999,\n ...}"
     },
     "execution_count": 5,
     "metadata": {},
     "output_type": "execute_result"
    }
   ],
   "source": [
    "vocab"
   ],
   "metadata": {
    "collapsed": false,
    "ExecuteTime": {
     "end_time": "2024-03-04T21:18:46.811935Z",
     "start_time": "2024-03-04T21:18:46.804154Z"
    }
   },
   "id": "84b97baab64f4e02"
  },
  {
   "cell_type": "code",
   "execution_count": 6,
   "outputs": [
    {
     "data": {
      "text/plain": "[29871, 12]"
     },
     "execution_count": 6,
     "metadata": {},
     "output_type": "execute_result"
    }
   ],
   "source": [
    "llamatokenizer.encode('\\t')"
   ],
   "metadata": {
    "collapsed": false,
    "ExecuteTime": {
     "end_time": "2024-03-04T21:18:47.401747Z",
     "start_time": "2024-03-04T21:18:47.395531Z"
    }
   },
   "id": "3e01085974b42f50"
  },
  {
   "cell_type": "markdown",
   "source": [
    "# End of Llamatokenizer experiments"
   ],
   "metadata": {
    "collapsed": false
   },
   "id": "2e9d7ff379f8f200"
  },
  {
   "cell_type": "markdown",
   "source": [
    "# Create new tokenizer which uses DP Splitter"
   ],
   "metadata": {
    "collapsed": false
   },
   "id": "3fc07b02eff97067"
  },
  {
   "cell_type": "code",
   "execution_count": 7,
   "outputs": [],
   "source": [
    "vocab = llamatokenizer.get_vocab()\n",
    "\n",
    "dp_tokenizer = DPTokenizer2(vocab, llamatokenizer)\n",
    "\n",
    "mbpp_dataset = load_dataset('mbpp', split=\"test\")"
   ],
   "metadata": {
    "collapsed": false,
    "ExecuteTime": {
     "end_time": "2024-03-04T21:18:54.728183Z",
     "start_time": "2024-03-04T21:18:50.373310Z"
    }
   },
   "id": "ef2a6bdc828d3fff"
  },
  {
   "cell_type": "markdown",
   "source": [
    "# Evaluate results"
   ],
   "metadata": {
    "collapsed": false
   },
   "id": "25d6f7a36415bd22"
  },
  {
   "cell_type": "code",
   "execution_count": 8,
   "outputs": [
    {
     "name": "stderr",
     "output_type": "stream",
     "text": [
      "100%|██████████| 500/500 [00:02<00:00, 204.96it/s]\n"
     ]
    }
   ],
   "source": [
    "from main import get_tokens_fn\n",
    "\n",
    "original_tokenizer_mapper = get_tokens_fn(llamatokenizer)\n",
    "new_tokenizer_mapper = get_tokens_fn(dp_tokenizer)\n",
    "\n",
    "original_tokens = []\n",
    "new_tokens = []\n",
    "\n",
    "for row in tqdm(mbpp_dataset):\n",
    "    original_tokens.append(original_tokenizer_mapper(row))\n",
    "    new_tokens.append(new_tokenizer_mapper(row))\n",
    "\n",
    "indices_with_difference = [\n",
    "    (i, 100.0 * float(len(original_tokens[i]) - len(new_tokens[i])) / len(original_tokens[i])) for i in\n",
    "    range(len(original_tokens)) if\n",
    "    len(original_tokens[i]) != len(new_tokens[i])]"
   ],
   "metadata": {
    "collapsed": false,
    "ExecuteTime": {
     "end_time": "2024-03-04T21:18:57.172125Z",
     "start_time": "2024-03-04T21:18:54.729348Z"
    }
   },
   "id": "a691483c2e6296b1"
  },
  {
   "cell_type": "code",
   "execution_count": 9,
   "outputs": [
    {
     "data": {
      "text/plain": "42"
     },
     "execution_count": 9,
     "metadata": {},
     "output_type": "execute_result"
    }
   ],
   "source": [
    "len(indices_with_difference)"
   ],
   "metadata": {
    "collapsed": false,
    "ExecuteTime": {
     "end_time": "2024-03-04T21:18:59.302601Z",
     "start_time": "2024-03-04T21:18:59.294691Z"
    }
   },
   "id": "1e899db05425bde8"
  },
  {
   "cell_type": "code",
   "execution_count": 10,
   "outputs": [
    {
     "data": {
      "text/plain": "[(5, 1.36986301369863),\n (17, 3.8461538461538463),\n (32, 1.4492753623188406),\n (41, 8.0),\n (53, 1.4285714285714286),\n (96, 0.6944444444444444),\n (101, 8.0),\n (122, 6.382978723404255),\n (127, 2.2222222222222223),\n (137, 0.6578947368421053),\n (140, 1.639344262295082),\n (141, 0.4608294930875576),\n (161, 2.6315789473684212),\n (164, 2.803738317757009),\n (167, 1.6666666666666667),\n (174, 1.7543859649122806),\n (175, 1.694915254237288),\n (196, 0.5555555555555556),\n (235, 3.2967032967032965),\n (263, 3.0303030303030303),\n (275, 0.6451612903225806),\n (316, 2.1739130434782608),\n (328, 3.125),\n (331, 1.6129032258064515),\n (334, 2.1739130434782608),\n (363, 0.6578947368421053),\n (378, 4.225352112676056),\n (384, 0.8547008547008547),\n (392, 0.5681818181818182),\n (403, 0.9345794392523364),\n (419, 2.127659574468085),\n (423, 1.639344262295082),\n (440, 3.125),\n (445, 3.0303030303030303),\n (451, 1.3888888888888888),\n (469, 0.847457627118644),\n (472, 2.7777777777777777),\n (474, 1.4492753623188406),\n (478, 1.0204081632653061),\n (482, 0.5836575875486382),\n (485, 2.0408163265306123),\n (492, 2.127659574468085)]"
     },
     "execution_count": 10,
     "metadata": {},
     "output_type": "execute_result"
    }
   ],
   "source": [
    "indices_with_difference"
   ],
   "metadata": {
    "collapsed": false,
    "ExecuteTime": {
     "end_time": "2024-03-04T21:19:27.341592Z",
     "start_time": "2024-03-04T21:19:27.332744Z"
    }
   },
   "id": "c3c600c7cf0158d8"
  },
  {
   "cell_type": "code",
   "execution_count": 12,
   "outputs": [],
   "source": [
    "indices = [idx[0] for idx in indices_with_difference]"
   ],
   "metadata": {
    "collapsed": false,
    "ExecuteTime": {
     "end_time": "2024-03-04T19:43:39.854531Z",
     "start_time": "2024-03-04T19:43:39.753873Z"
    }
   },
   "id": "9e5da5feb4de279c"
  },
  {
   "cell_type": "code",
   "execution_count": 13,
   "outputs": [],
   "source": [
    "text_inputs = mbpp_dataset[indices][\"code\"]"
   ],
   "metadata": {
    "collapsed": false,
    "ExecuteTime": {
     "end_time": "2024-03-04T19:43:41.410362Z",
     "start_time": "2024-03-04T19:43:41.144445Z"
    }
   },
   "id": "7721388734e9b96e"
  },
  {
   "cell_type": "code",
   "execution_count": 14,
   "outputs": [],
   "source": [
    "import pandas as pd\n",
    "\n",
    "df = pd.DataFrame(data=indices_with_difference, columns=[\"mbpp_test_index\", \"tokenization_percentage_improvement\"])"
   ],
   "metadata": {
    "collapsed": false,
    "ExecuteTime": {
     "end_time": "2024-03-04T19:43:49.292657Z",
     "start_time": "2024-03-04T19:43:49.250716Z"
    }
   },
   "id": "c7b4aad33e71e587"
  },
  {
   "cell_type": "code",
   "execution_count": 15,
   "outputs": [],
   "source": [
    "df['text_inputs'] = text_inputs"
   ],
   "metadata": {
    "collapsed": false,
    "ExecuteTime": {
     "end_time": "2024-03-04T19:43:56.925749Z",
     "start_time": "2024-03-04T19:43:56.900893Z"
    }
   },
   "id": "aeb9c4957607d241"
  },
  {
   "cell_type": "code",
   "execution_count": 18,
   "outputs": [],
   "source": [
    "df[\"original_tokens\"] = [original_tokens[idx] for idx in indices]\n",
    "df[\"dp_tokens\"] = [new_tokens[idx] for idx in indices]\n"
   ],
   "metadata": {
    "collapsed": false,
    "ExecuteTime": {
     "end_time": "2024-03-04T19:47:18.266904Z",
     "start_time": "2024-03-04T19:47:18.245463Z"
    }
   },
   "id": "c815cc7d2f5ca709"
  },
  {
   "cell_type": "code",
   "execution_count": 24,
   "outputs": [],
   "source": [
    "df['original_reconstructed'] = df['original_tokens'].apply(llamatokenizer.decode)\n",
    "df['dp_reconstructed'] = df['dp_tokens'].apply(llamatokenizer.decode)"
   ],
   "metadata": {
    "collapsed": false,
    "ExecuteTime": {
     "end_time": "2024-03-04T19:48:59.601496Z",
     "start_time": "2024-03-04T19:48:59.125345Z"
    }
   },
   "id": "2698fa632938ed3a"
  },
  {
   "cell_type": "code",
   "execution_count": 26,
   "outputs": [
    {
     "data": {
      "text/plain": "     mbpp_test_index  tokenization_percentage_improvement  \\\n0                  1                            -4.166667   \n1                  2                            -5.660377   \n2                  5                             1.369863   \n3                 11                            -1.020408   \n4                 17                             3.846154   \n..               ...                                  ...   \n146              486                            -3.921569   \n147              490                            -2.339181   \n148              492                             2.127660   \n149              496                            -2.127660   \n150              497                            -1.298701   \n\n                                           text_inputs  \\\n0    def sort_matrix(M):\\r\\n    result = sorted(M, ...   \n1    from collections import Counter\\r\\ndef count_c...   \n2    import re\\r\\ndef text_lowercase_underscore(tex...   \n3    def find_first_duplicate(nums):\\r\\n    num_set...   \n4    def binomial_Coeff(n,k): \\r\\n    if k > n : \\r...   \n..                                                 ...   \n146  import math\\r\\ndef surfacearea_cone(r,h):\\r\\n ...   \n147  def ngcd(x,y):\\r\\n    i=1\\r\\n    while(i<=x an...   \n148  def add_consecutive_nums(nums):\\r\\n    result ...   \n149  def remove_words(list1, removewords):\\r\\n    f...   \n150  def same_order(l1, l2):\\r\\n    common_elements...   \n\n                                       original_tokens  \\\n0    [822, 2656, 29918, 5344, 29898, 29924, 1125, 3...   \n1    [515, 16250, 1053, 315, 5336, 30004, 13, 1753,...   \n2    [1053, 337, 30004, 13, 1753, 1426, 29918, 1360...   \n3    [822, 1284, 29918, 4102, 29918, 20908, 5926, 2...   \n4    [822, 9016, 7615, 29918, 29907, 7297, 600, 298...   \n..                                                 ...   \n146  [1053, 5844, 30004, 13, 1753, 7101, 6203, 2991...   \n147  [822, 8736, 2252, 29898, 29916, 29892, 29891, ...   \n148  [822, 788, 29918, 535, 3471, 11067, 29918, 194...   \n149  [822, 3349, 29918, 9303, 29898, 1761, 29896, 2...   \n150  [822, 1021, 29918, 2098, 29898, 29880, 29896, ...   \n\n                                             dp_tokens  \\\n0    [822, 2656, 29918, 5344, 29898, 29924, 1125, 3...   \n1    [515, 16250, 1053, 29871, 17779, 30004, 13, 17...   \n2    [1053, 337, 30004, 13, 1753, 1426, 29918, 1360...   \n3    [822, 1284, 29918, 4102, 29918, 20908, 5926, 2...   \n4    [822, 9016, 7615, 29918, 7967, 12352, 29898, 2...   \n..                                                 ...   \n146  [1053, 5844, 30004, 13, 1753, 7101, 6203, 2991...   \n147  [822, 8736, 2252, 29898, 29916, 29892, 29891, ...   \n148  [822, 788, 29918, 535, 3471, 11067, 29918, 298...   \n149  [822, 3349, 29918, 9303, 29898, 1761, 29896, 2...   \n150  [822, 1021, 29918, 2098, 29898, 29880, 29896, ...   \n\n                                original_reconstructed  \\\n0    def sort_matrix(M):\\r\\n    result = sorted(M, ...   \n1    from collections import Counter\\r\\ndef count_c...   \n2    import re\\r\\ndef text_lowercase_underscore(tex...   \n3    def find_first_duplicate(nums):\\r\\n    num_set...   \n4    def binomial_Coeff(n,k): \\r\\n    if k > n : \\r...   \n..                                                 ...   \n146  import math\\r\\ndef surfacearea_cone(r,h):\\r\\n ...   \n147  def ngcd(x,y):\\r\\n    i=1\\r\\n    while(i<=x an...   \n148  def add_consecutive_nums(nums):\\r\\n    result ...   \n149  def remove_words(list1, removewords):\\r\\n    f...   \n150  def same_order(l1, l2):\\r\\n    common_elements...   \n\n                                      dp_reconstructed  \n0    def sort_matrix(M):\\r\\n    result = sorted(M, ...  \n1    from collections import Counter\\r\\ndef count_c...  \n2    import re\\r\\ndef text_lowercase_underscore(tex...  \n3    def find_first_duplicate(nums):\\r\\n    num_set...  \n4    def binomial_Coeff(n,k): \\r\\n    if k > n : \\r...  \n..                                                 ...  \n146  import math\\r\\ndef surfacearea_cone(r,h):\\r\\n ...  \n147  def ngcd(x,y):\\r\\n    i=1\\r\\n    while(i<=x an...  \n148  def add_consecutive_nums(nums):\\r\\n    result ...  \n149  def remove_words(list1, removewords):\\r\\n    f...  \n150  def same_order(l1, l2):\\r\\n    common_elements...  \n\n[151 rows x 7 columns]",
      "text/html": "<div>\n<style scoped>\n    .dataframe tbody tr th:only-of-type {\n        vertical-align: middle;\n    }\n\n    .dataframe tbody tr th {\n        vertical-align: top;\n    }\n\n    .dataframe thead th {\n        text-align: right;\n    }\n</style>\n<table border=\"1\" class=\"dataframe\">\n  <thead>\n    <tr style=\"text-align: right;\">\n      <th></th>\n      <th>mbpp_test_index</th>\n      <th>tokenization_percentage_improvement</th>\n      <th>text_inputs</th>\n      <th>original_tokens</th>\n      <th>dp_tokens</th>\n      <th>original_reconstructed</th>\n      <th>dp_reconstructed</th>\n    </tr>\n  </thead>\n  <tbody>\n    <tr>\n      <th>0</th>\n      <td>1</td>\n      <td>-4.166667</td>\n      <td>def sort_matrix(M):\\r\\n    result = sorted(M, ...</td>\n      <td>[822, 2656, 29918, 5344, 29898, 29924, 1125, 3...</td>\n      <td>[822, 2656, 29918, 5344, 29898, 29924, 1125, 3...</td>\n      <td>def sort_matrix(M):\\r\\n    result = sorted(M, ...</td>\n      <td>def sort_matrix(M):\\r\\n    result = sorted(M, ...</td>\n    </tr>\n    <tr>\n      <th>1</th>\n      <td>2</td>\n      <td>-5.660377</td>\n      <td>from collections import Counter\\r\\ndef count_c...</td>\n      <td>[515, 16250, 1053, 315, 5336, 30004, 13, 1753,...</td>\n      <td>[515, 16250, 1053, 29871, 17779, 30004, 13, 17...</td>\n      <td>from collections import Counter\\r\\ndef count_c...</td>\n      <td>from collections import Counter\\r\\ndef count_c...</td>\n    </tr>\n    <tr>\n      <th>2</th>\n      <td>5</td>\n      <td>1.369863</td>\n      <td>import re\\r\\ndef text_lowercase_underscore(tex...</td>\n      <td>[1053, 337, 30004, 13, 1753, 1426, 29918, 1360...</td>\n      <td>[1053, 337, 30004, 13, 1753, 1426, 29918, 1360...</td>\n      <td>import re\\r\\ndef text_lowercase_underscore(tex...</td>\n      <td>import re\\r\\ndef text_lowercase_underscore(tex...</td>\n    </tr>\n    <tr>\n      <th>3</th>\n      <td>11</td>\n      <td>-1.020408</td>\n      <td>def find_first_duplicate(nums):\\r\\n    num_set...</td>\n      <td>[822, 1284, 29918, 4102, 29918, 20908, 5926, 2...</td>\n      <td>[822, 1284, 29918, 4102, 29918, 20908, 5926, 2...</td>\n      <td>def find_first_duplicate(nums):\\r\\n    num_set...</td>\n      <td>def find_first_duplicate(nums):\\r\\n    num_set...</td>\n    </tr>\n    <tr>\n      <th>4</th>\n      <td>17</td>\n      <td>3.846154</td>\n      <td>def binomial_Coeff(n,k): \\r\\n    if k &gt; n : \\r...</td>\n      <td>[822, 9016, 7615, 29918, 29907, 7297, 600, 298...</td>\n      <td>[822, 9016, 7615, 29918, 7967, 12352, 29898, 2...</td>\n      <td>def binomial_Coeff(n,k): \\r\\n    if k &gt; n : \\r...</td>\n      <td>def binomial_Coeff(n,k): \\r\\n    if k &gt; n : \\r...</td>\n    </tr>\n    <tr>\n      <th>...</th>\n      <td>...</td>\n      <td>...</td>\n      <td>...</td>\n      <td>...</td>\n      <td>...</td>\n      <td>...</td>\n      <td>...</td>\n    </tr>\n    <tr>\n      <th>146</th>\n      <td>486</td>\n      <td>-3.921569</td>\n      <td>import math\\r\\ndef surfacearea_cone(r,h):\\r\\n ...</td>\n      <td>[1053, 5844, 30004, 13, 1753, 7101, 6203, 2991...</td>\n      <td>[1053, 5844, 30004, 13, 1753, 7101, 6203, 2991...</td>\n      <td>import math\\r\\ndef surfacearea_cone(r,h):\\r\\n ...</td>\n      <td>import math\\r\\ndef surfacearea_cone(r,h):\\r\\n ...</td>\n    </tr>\n    <tr>\n      <th>147</th>\n      <td>490</td>\n      <td>-2.339181</td>\n      <td>def ngcd(x,y):\\r\\n    i=1\\r\\n    while(i&lt;=x an...</td>\n      <td>[822, 8736, 2252, 29898, 29916, 29892, 29891, ...</td>\n      <td>[822, 8736, 2252, 29898, 29916, 29892, 29891, ...</td>\n      <td>def ngcd(x,y):\\r\\n    i=1\\r\\n    while(i&lt;=x an...</td>\n      <td>def ngcd(x,y):\\r\\n    i=1\\r\\n    while(i&lt;=x an...</td>\n    </tr>\n    <tr>\n      <th>148</th>\n      <td>492</td>\n      <td>2.127660</td>\n      <td>def add_consecutive_nums(nums):\\r\\n    result ...</td>\n      <td>[822, 788, 29918, 535, 3471, 11067, 29918, 194...</td>\n      <td>[822, 788, 29918, 535, 3471, 11067, 29918, 298...</td>\n      <td>def add_consecutive_nums(nums):\\r\\n    result ...</td>\n      <td>def add_consecutive_nums(nums):\\r\\n    result ...</td>\n    </tr>\n    <tr>\n      <th>149</th>\n      <td>496</td>\n      <td>-2.127660</td>\n      <td>def remove_words(list1, removewords):\\r\\n    f...</td>\n      <td>[822, 3349, 29918, 9303, 29898, 1761, 29896, 2...</td>\n      <td>[822, 3349, 29918, 9303, 29898, 1761, 29896, 2...</td>\n      <td>def remove_words(list1, removewords):\\r\\n    f...</td>\n      <td>def remove_words(list1, removewords):\\r\\n    f...</td>\n    </tr>\n    <tr>\n      <th>150</th>\n      <td>497</td>\n      <td>-1.298701</td>\n      <td>def same_order(l1, l2):\\r\\n    common_elements...</td>\n      <td>[822, 1021, 29918, 2098, 29898, 29880, 29896, ...</td>\n      <td>[822, 1021, 29918, 2098, 29898, 29880, 29896, ...</td>\n      <td>def same_order(l1, l2):\\r\\n    common_elements...</td>\n      <td>def same_order(l1, l2):\\r\\n    common_elements...</td>\n    </tr>\n  </tbody>\n</table>\n<p>151 rows × 7 columns</p>\n</div>"
     },
     "execution_count": 26,
     "metadata": {},
     "output_type": "execute_result"
    }
   ],
   "source": [
    "df"
   ],
   "metadata": {
    "collapsed": false,
    "ExecuteTime": {
     "end_time": "2024-03-04T19:50:07.633227Z",
     "start_time": "2024-03-04T19:50:07.620548Z"
    }
   },
   "id": "12e481f2920c1fd6"
  },
  {
   "cell_type": "code",
   "execution_count": 27,
   "outputs": [
    {
     "data": {
      "text/plain": "0      True\n1      True\n2      True\n3      True\n4      True\n       ... \n146    True\n147    True\n148    True\n149    True\n150    True\nLength: 151, dtype: bool"
     },
     "execution_count": 27,
     "metadata": {},
     "output_type": "execute_result"
    }
   ],
   "source": [
    "df.apply(lambda x: x['text_inputs'] == x['original_reconstructed'], axis=1)"
   ],
   "metadata": {
    "collapsed": false,
    "ExecuteTime": {
     "end_time": "2024-03-04T19:51:05.365637Z",
     "start_time": "2024-03-04T19:51:05.182573Z"
    }
   },
   "id": "36f2d34a53ebb82f"
  },
  {
   "cell_type": "code",
   "execution_count": 28,
   "outputs": [],
   "source": [
    "df['original_reconstructed_compare_original'] = df.apply(lambda x: x['text_inputs'] == x['original_reconstructed'],\n",
    "                                                         axis=1)"
   ],
   "metadata": {
    "collapsed": false,
    "ExecuteTime": {
     "end_time": "2024-03-04T19:52:48.230101Z",
     "start_time": "2024-03-04T19:52:47.371652Z"
    }
   },
   "id": "fc34c2bd0bfa05e9"
  },
  {
   "cell_type": "code",
   "execution_count": 29,
   "outputs": [],
   "source": [
    "df['dp_reconstructed_compare_original'] = df.apply(lambda x: x['text_inputs'] == x['dp_reconstructed'],\n",
    "                                                   axis=1)"
   ],
   "metadata": {
    "collapsed": false,
    "ExecuteTime": {
     "end_time": "2024-03-04T19:53:12.480280Z",
     "start_time": "2024-03-04T19:53:12.305189Z"
    }
   },
   "id": "cc9e0c68d92f4b4c"
  },
  {
   "cell_type": "code",
   "execution_count": 31,
   "outputs": [
    {
     "data": {
      "text/plain": "array([ True])"
     },
     "execution_count": 31,
     "metadata": {},
     "output_type": "execute_result"
    }
   ],
   "source": [
    "df['dp_reconstructed_compare_original'].unique()"
   ],
   "metadata": {
    "collapsed": false,
    "ExecuteTime": {
     "end_time": "2024-03-04T19:56:55.713414Z",
     "start_time": "2024-03-04T19:56:55.664326Z"
    }
   },
   "id": "c3453bb1625512cf"
  },
  {
   "cell_type": "code",
   "execution_count": 34,
   "outputs": [
    {
     "data": {
      "text/plain": "24"
     },
     "execution_count": 34,
     "metadata": {},
     "output_type": "execute_result"
    }
   ],
   "source": [
    "len(df.loc[0, 'original_tokens'])"
   ],
   "metadata": {
    "collapsed": false,
    "ExecuteTime": {
     "end_time": "2024-03-04T19:59:31.176229Z",
     "start_time": "2024-03-04T19:59:31.160038Z"
    }
   },
   "id": "9d02419accbc99fd"
  },
  {
   "cell_type": "code",
   "execution_count": 35,
   "outputs": [
    {
     "data": {
      "text/plain": "25"
     },
     "execution_count": 35,
     "metadata": {},
     "output_type": "execute_result"
    }
   ],
   "source": [
    "len(df.loc[0, 'dp_tokens'])"
   ],
   "metadata": {
    "collapsed": false,
    "ExecuteTime": {
     "end_time": "2024-03-04T19:59:38.518108Z",
     "start_time": "2024-03-04T19:59:38.492689Z"
    }
   },
   "id": "82d1988d9b077184"
  },
  {
   "cell_type": "code",
   "execution_count": 36,
   "outputs": [
    {
     "data": {
      "text/plain": "[822,\n 2656,\n 29918,\n 5344,\n 29898,\n 29924,\n 1125,\n 30004,\n 13,\n 1678,\n 1121,\n 353,\n 12705,\n 29898,\n 29924,\n 29892,\n 1820,\n 29922,\n 2083,\n 8443,\n 13,\n 1678,\n 736,\n 1121]"
     },
     "execution_count": 36,
     "metadata": {},
     "output_type": "execute_result"
    }
   ],
   "source": [
    "df.loc[0, 'original_tokens']"
   ],
   "metadata": {
    "collapsed": false,
    "ExecuteTime": {
     "end_time": "2024-03-04T19:59:56.801480Z",
     "start_time": "2024-03-04T19:59:56.777951Z"
    }
   },
   "id": "b679c32b07350af4"
  },
  {
   "cell_type": "code",
   "execution_count": 37,
   "outputs": [
    {
     "data": {
      "text/plain": "[822,\n 2656,\n 29918,\n 5344,\n 29898,\n 29924,\n 1125,\n 30004,\n 13,\n 1678,\n 1121,\n 353,\n 12705,\n 29898,\n 29924,\n 29892,\n 1820,\n 29922,\n 2083,\n 29897,\n 30004,\n 13,\n 1678,\n 736,\n 1121]"
     },
     "execution_count": 37,
     "metadata": {},
     "output_type": "execute_result"
    }
   ],
   "source": [
    "df.loc[0, 'dp_tokens']"
   ],
   "metadata": {
    "collapsed": false,
    "ExecuteTime": {
     "end_time": "2024-03-04T20:00:08.866774Z",
     "start_time": "2024-03-04T20:00:08.854932Z"
    }
   },
   "id": "ec025dd3545de416"
  },
  {
   "cell_type": "code",
   "execution_count": 40,
   "outputs": [
    {
     "data": {
      "text/plain": "'\\r'"
     },
     "execution_count": 40,
     "metadata": {},
     "output_type": "execute_result"
    }
   ],
   "source": [
    "vocab_bidict.inverse[30004]"
   ],
   "metadata": {
    "collapsed": false,
    "ExecuteTime": {
     "end_time": "2024-03-04T20:01:38.912689Z",
     "start_time": "2024-03-04T20:01:38.898110Z"
    }
   },
   "id": "dd3e2c16ae542267"
  },
  {
   "cell_type": "code",
   "execution_count": 42,
   "outputs": [
    {
     "data": {
      "text/plain": "mbpp_test_index                                                                            1\ntokenization_percentage_improvement                                                -4.166667\ntext_inputs                                def sort_matrix(M):\\r\\n    result = sorted(M, ...\noriginal_tokens                            [822, 2656, 29918, 5344, 29898, 29924, 1125, 3...\ndp_tokens                                  [822, 2656, 29918, 5344, 29898, 29924, 1125, 3...\noriginal_reconstructed                     def sort_matrix(M):\\r\\n    result = sorted(M, ...\ndp_reconstructed                           def sort_matrix(M):\\r\\n    result = sorted(M, ...\noriginal_reconstructed_compare_original                                                 True\ndp_reconstructed_compare_original                                                       True\nName: 0, dtype: object"
     },
     "execution_count": 42,
     "metadata": {},
     "output_type": "execute_result"
    }
   ],
   "source": [
    "df.loc[0]"
   ],
   "metadata": {
    "collapsed": false,
    "ExecuteTime": {
     "end_time": "2024-03-04T20:03:16.795052Z",
     "start_time": "2024-03-04T20:03:16.772885Z"
    }
   },
   "id": "2021ae4e8f628efc"
  },
  {
   "cell_type": "code",
   "execution_count": 42,
   "outputs": [],
   "source": [
    "tokens = original_tokens[0]"
   ],
   "metadata": {
    "collapsed": false,
    "ExecuteTime": {
     "end_time": "2024-02-17T21:25:51.141274Z",
     "start_time": "2024-02-17T21:25:50.184184Z"
    }
   },
   "id": "8abf2d721c122c08"
  },
  {
   "cell_type": "code",
   "execution_count": 48,
   "outputs": [],
   "source": [
    "def show_separated(tokenizer, tokens):\n",
    "    return \"||\".join([tokenizer.decode(token) for token in tokens])"
   ],
   "metadata": {
    "collapsed": false,
    "ExecuteTime": {
     "end_time": "2024-02-17T21:28:34.722577Z",
     "start_time": "2024-02-17T21:28:34.694584Z"
    }
   },
   "id": "958c808d59e8f470"
  },
  {
   "cell_type": "code",
   "execution_count": null,
   "outputs": [],
   "source": [
    "df[\"original_tokens\"] = [original_tokens[idx] for idx in indices]"
   ],
   "metadata": {
    "collapsed": false
   },
   "id": "9053164c41201107"
  },
  {
   "cell_type": "code",
   "execution_count": 54,
   "outputs": [
    {
     "data": {
      "text/plain": "    mbpp_test_index  tokenization_percentage_improvement  \\\n0                17                             3.092784   \n1                29                             2.222222   \n2                41                             4.166667   \n3                85                             2.040816   \n4                96                             0.429185   \n5               102                             1.204819   \n6               116                             0.877193   \n7               122                            12.000000   \n8               135                             2.631579   \n9               137                             0.540541   \n10              140                             1.408451   \n11              146                             2.325581   \n12              161                             1.219512   \n13              164                             1.136364   \n14              171                             1.515152   \n15              181                             0.806452   \n16              197                             1.408451   \n17              204                             0.833333   \n18              222                            12.820513   \n19              244                             2.222222   \n20              255                             6.896552   \n21              258                             4.347826   \n22              263                             2.777778   \n23              275                             0.657895   \n24              280                             0.800000   \n25              284                             3.571429   \n26              296                             9.230769   \n27              306                             0.877193   \n28              328                             2.272727   \n29              331                             1.168224   \n30              332                             1.020408   \n31              334                             2.040816   \n32              358                             5.405405   \n33              363                             0.473934   \n34              378                             4.411765   \n35              387                             2.380952   \n36              394                             6.382979   \n37              408                             3.571429   \n38              427                             2.307692   \n39              448                             1.724138   \n40              474                             3.365385   \n41              478                             0.645161   \n42              492                             1.960784   \n\n                                          text_inputs  \\\n0   def binomial_Coeff(n,k): \\r\\n    if k > n : \\r...   \n1   from collections import Counter\\r\\nfrom iterto...   \n2   def parallelogram_area(b,h):\\r\\n  area=b*h\\r\\n...   \n3   def divisor(n):\\r\\n  for i in range(n):\\r\\n   ...   \n4   def count_Hexadecimal(L,R) :  \\r\\n    count = ...   \n5   def check_integer(text):\\r\\n text = text.strip...   \n6   def multiply_int(x, y):\\r\\n    if y < 0:\\r\\n  ...   \n7   def sum_negativenum(nums):\\r\\n  sum_negativenu...   \n8   def ascii_value_string(str1):\\r\\n  for i in ra...   \n9   def sum_digits_single(x) : \\r\\n    ans = 0\\r\\n...   \n10  def gcd(p,q):\\r\\n    while q != 0:\\r\\n        ...   \n11  from itertools import groupby\\r\\ndef encode_li...   \n12  def count_occurance(s):\\r\\n  count=0\\r\\n  for ...   \n13  def is_valid_parenthese( str1):\\r\\n        sta...   \n14  import re\\r\\ndef find_character(string):\\r\\n  ...   \n15  def check_String(str): \\r\\n    flag_l = False\\...   \n16  import re\\r\\ndef is_decimal(num):\\r\\n  num_fet...   \n17  def decode_list(alist):\\r\\n    def aux(g):\\r\\n...   \n18  def lateralsuface_cylinder(r,h):\\r\\n  laterals...   \n19  from itertools import combinations_with_replac...   \n20  def lateralsurface_cube(l):\\r\\n  LSA = 4 * (l ...   \n21  def ascii_value(k):\\r\\n  ch=k\\r\\n  return ord(ch)   \n22  import math  \\r\\ndef even_binomial_Coeff_Sum( ...   \n23  def max_sub_array_sum_repeated(a, n, k): \\r\\n\\...   \n24  def count_no_of_ways(n, k): \\r\\n\\tdp = [0] * (...   \n25  def sum_div(number):\\r\\n    divisors = [1]\\r\\n...   \n26  from copy import deepcopy\\r\\ndef colon_tuplex(...   \n27  from itertools import groupby\\r\\ndef modified_...   \n28  def find_Divisor(x,y):  \\r\\n    if (x==y): \\r\\...   \n29  from heapq import heappop, heappush\\r\\nclass N...   \n30  def dig_let(s):\\r\\n d=l=0\\r\\n for c in s:\\r\\n ...   \n31  def diff_consecutivenums(nums):\\r\\n    result ...   \n32  def lateralsurface_cuboid(l,w,h):\\r\\n  LSA = 2...   \n33  def permute_string(str):\\r\\n    if len(str) ==...   \n34  def find_lucas(n): \\r\\n\\tif (n == 0): \\r\\n\\t\\t...   \n35  def sum_of_digits(nums):\\r\\n    return sum(int...   \n36  def check_tuplex(tuplex,tuple1): \\r\\n  if tupl...   \n37  def round_and_sum(list1):\\r\\n  lenght=len(list...   \n38  def count_bidirectional(test_list):\\r\\n  res =...   \n39  import re\\r\\ndef remove_uppercase(str1):\\r\\n  ...   \n40  def is_palindrome(n) : \\r\\n\\tdivisor = 1\\r\\n\\t...   \n41  def frequency_Of_Largest(n,arr): \\r\\n    mn = ...   \n42  def add_consecutive_nums(nums):\\r\\n    result ...   \n\n                                original_tokenization  \\\n0   def|| bin||omial||_||C||oe||ff||(||n||,||k||):...   \n1   from|| collections|| import|| Counter||\\r||\\n|...   \n2   def|| paralle||log||ram||_||area||(||b||,||h||...   \n3   def|| div||is||or||(||n||):||\\r||\\n|| || for||...   \n4   def|| count||_||H||ex||ade||c||imal||(||L||,||...   \n5   def|| check||_||integer||(||text||):||\\r||\\n||...   \n6   def|| multiply||_||int||(||x||,|| y||):||\\r||\\...   \n7   def|| sum||_||neg||at||iven||um||(||n||ums||):...   \n8   def|| as||ci||i||_||value||_||string||(||str||...   \n9   def|| sum||_||dig||its||_||single||(||x||)|| :...   \n10  def|| g||cd||(||p||,||q||):||\\r||\\n|| || || ||...   \n11  from|| it||ert||ools|| import|| group||by||\\r|...   \n12  def|| count||_||occ||urance||(||s||):||\\r||\\n|...   \n13  def|| is||_||valid||_||parent||he||se||(|| str...   \n14  import|| re||\\r||\\n||def|| find||_||character|...   \n15  def|| check||_||String||(||str||):|| ||\\r||\\n|...   \n16  import|| re||\\r||\\n||def|| is||_||dec||imal||(...   \n17  def|| decode||_||list||(||alist||):||\\r||\\n|| ...   \n18  def|| later||als||u||face||_||cyl||inder||(||r...   \n19  from|| it||ert||ools|| import|| combinations||...   \n20  def|| later||als||ur||face||_||cube||(||l||):|...   \n21  def|| as||ci||i||_||value||(||k||):||\\r||\\n|| ...   \n22  import|| math|| || ||\\r||\\n||def|| even||_||bi...   \n23  def|| max||_||sub||_||array||_||sum||_||repe||...   \n24  def|| count||_||no||_||of||_||ways||(||n||,|| ...   \n25  def|| sum||_||div||(||number||):||\\r||\\n|| || ...   \n26  from|| copy|| import|| deep||copy||\\r||\\n||def...   \n27  from|| it||ert||ools|| import|| group||by||\\r|...   \n28  def|| find||_||Div||is||or||(||x||,||y||):|| |...   \n29  from|| heap||q|| import|| he||app||op||,|| he|...   \n30  def|| dig||_||let||(||s||):||\\r||\\n|| d||=||l|...   \n31  def|| diff||_||con||secut||iven||ums||(||n||um...   \n32  def|| later||als||ur||face||_||c||ub||oid||(||...   \n33  def|| perm||ute||_||string||(||str||):||\\r||\\n...   \n34  def|| find||_||l||uc||as||(||n||):|| ||\\r||\\n|...   \n35  def|| sum||_||of||_||dig||its||(||n||ums||):||...   \n36  def|| check||_||t||up||lex||(||t||up||lex||,||...   \n37  def|| round||_||and||_||sum||(||list||1||):||\\...   \n38  def|| count||_||bid||irection||al||(||test||_|...   \n39  import|| re||\\r||\\n||def|| remove||_||upp||erc...   \n40  def|| is||_||pal||ind||rome||(||n||)|| :|| ||\\...   \n41  def|| frequency||_||Of||_||L||arg||est||(||n||...   \n42  def|| add||_||con||secut||ive||_||n||ums||(||n...   \n\n                                      dp_tokenization  \n0   def|| bin||omial||_||Co||eff||(||n||,||k||):||...  \n1   from|| collections|| import|| Counter||\\r||\\n|...  \n2   def|| parallel||ogram||_||area||(||b||,||h||):...  \n3   def|| di||visor||(||n||):||\\r||\\n|| || for|| i...  \n4   def|| count||_||He||xa||dec||imal||(||L||,||R|...  \n5   def|| check||_||integer||(||text||):||\\r||\\n||...  \n6   def|| multiply||_||int||(||x||,|| y||):||\\r||\\...  \n7   def|| sum||_||negative||num||(||n||ums||):||\\r...  \n8   def|| asc||ii||_||value||_||string||(||str||1|...  \n9   def|| sum||_||dig||its||_||single||(||x||)|| :...  \n10  def|| g||cd||(||p||,||q||):||\\r||\\n|| || || ||...  \n11  from|| iter||tools|| import|| group||by||\\r||\\...  \n12  def|| count||_||occ||urance||(||s||):||\\r||\\n|...  \n13  def|| is||_||valid||_||paren||these||(|| str||...  \n14  import|| re||\\r||\\n||def|| find||_||character|...  \n15  def|| check||_||String||(||str||):|| ||\\r||\\n|...  \n16  import|| re||\\r||\\n||def|| is||_||dec||imal||(...  \n17  def|| decode||_||list||(||alist||):||\\r||\\n|| ...  \n18  def|| lateral||su||face||_||cyl||inder||(||r||...  \n19  from|| iter||tools|| import|| combinations||_|...  \n20  def|| lateral||surface||_||cube||(||l||):||\\r|...  \n21  def|| asc||ii||_||value||(||k||):||\\r||\\n|| ||...  \n22  import|| math|| || ||\\r||\\n||def|| even||_||bi...  \n23  def|| max||_||sub||_||array||_||sum||_||repe||...  \n24  def|| count||_||no||_||of||_||ways||(||n||,|| ...  \n25  def|| sum||_||div||(||number||):||\\r||\\n|| || ...  \n26  from|| copy|| import|| deep||copy||\\r||\\n||def...  \n27  from|| iter||tools|| import|| group||by||\\r||\\...  \n28  def|| find||_||Di||visor||(||x||,||y||):|| || ...  \n29  from|| heap||q|| import|| heap||pop||,|| heap|...  \n30  def|| dig||_||let||(||s||):||\\r||\\n|| d||=||l|...  \n31  def|| diff||_||con||secut||iven||ums||(||n||um...  \n32  def|| lateral||surface||_||c||ub||oid||(||l||,...  \n33  def|| perm||ute||_||string||(||str||):||\\r||\\n...  \n34  def|| find||_||lu||cas||(||n||):|| ||\\r||\\n||\\...  \n35  def|| sum||_||of||_||dig||its||(||n||ums||):||...  \n36  def|| check||_||tu||plex||(||tu||plex||,||t||u...  \n37  def|| round||_||and||_||sum||(||list||1||):||\\...  \n38  def|| count||_||bi||direct||ional||(||test||_|...  \n39  import|| re||\\r||\\n||def|| remove||_||upper||c...  \n40  def|| is||_||pal||ind||rome||(||n||)|| :|| ||\\...  \n41  def|| frequency||_||Of||_||Large||st||(||n||,|...  \n42  def|| add||_||con||sec||utive||_||n||ums||(||n...  ",
      "text/html": "<div>\n<style scoped>\n    .dataframe tbody tr th:only-of-type {\n        vertical-align: middle;\n    }\n\n    .dataframe tbody tr th {\n        vertical-align: top;\n    }\n\n    .dataframe thead th {\n        text-align: right;\n    }\n</style>\n<table border=\"1\" class=\"dataframe\">\n  <thead>\n    <tr style=\"text-align: right;\">\n      <th></th>\n      <th>mbpp_test_index</th>\n      <th>tokenization_percentage_improvement</th>\n      <th>text_inputs</th>\n      <th>original_tokenization</th>\n      <th>dp_tokenization</th>\n    </tr>\n  </thead>\n  <tbody>\n    <tr>\n      <th>0</th>\n      <td>17</td>\n      <td>3.092784</td>\n      <td>def binomial_Coeff(n,k): \\r\\n    if k &gt; n : \\r...</td>\n      <td>def|| bin||omial||_||C||oe||ff||(||n||,||k||):...</td>\n      <td>def|| bin||omial||_||Co||eff||(||n||,||k||):||...</td>\n    </tr>\n    <tr>\n      <th>1</th>\n      <td>29</td>\n      <td>2.222222</td>\n      <td>from collections import Counter\\r\\nfrom iterto...</td>\n      <td>from|| collections|| import|| Counter||\\r||\\n|...</td>\n      <td>from|| collections|| import|| Counter||\\r||\\n|...</td>\n    </tr>\n    <tr>\n      <th>2</th>\n      <td>41</td>\n      <td>4.166667</td>\n      <td>def parallelogram_area(b,h):\\r\\n  area=b*h\\r\\n...</td>\n      <td>def|| paralle||log||ram||_||area||(||b||,||h||...</td>\n      <td>def|| parallel||ogram||_||area||(||b||,||h||):...</td>\n    </tr>\n    <tr>\n      <th>3</th>\n      <td>85</td>\n      <td>2.040816</td>\n      <td>def divisor(n):\\r\\n  for i in range(n):\\r\\n   ...</td>\n      <td>def|| div||is||or||(||n||):||\\r||\\n|| || for||...</td>\n      <td>def|| di||visor||(||n||):||\\r||\\n|| || for|| i...</td>\n    </tr>\n    <tr>\n      <th>4</th>\n      <td>96</td>\n      <td>0.429185</td>\n      <td>def count_Hexadecimal(L,R) :  \\r\\n    count = ...</td>\n      <td>def|| count||_||H||ex||ade||c||imal||(||L||,||...</td>\n      <td>def|| count||_||He||xa||dec||imal||(||L||,||R|...</td>\n    </tr>\n    <tr>\n      <th>5</th>\n      <td>102</td>\n      <td>1.204819</td>\n      <td>def check_integer(text):\\r\\n text = text.strip...</td>\n      <td>def|| check||_||integer||(||text||):||\\r||\\n||...</td>\n      <td>def|| check||_||integer||(||text||):||\\r||\\n||...</td>\n    </tr>\n    <tr>\n      <th>6</th>\n      <td>116</td>\n      <td>0.877193</td>\n      <td>def multiply_int(x, y):\\r\\n    if y &lt; 0:\\r\\n  ...</td>\n      <td>def|| multiply||_||int||(||x||,|| y||):||\\r||\\...</td>\n      <td>def|| multiply||_||int||(||x||,|| y||):||\\r||\\...</td>\n    </tr>\n    <tr>\n      <th>7</th>\n      <td>122</td>\n      <td>12.000000</td>\n      <td>def sum_negativenum(nums):\\r\\n  sum_negativenu...</td>\n      <td>def|| sum||_||neg||at||iven||um||(||n||ums||):...</td>\n      <td>def|| sum||_||negative||num||(||n||ums||):||\\r...</td>\n    </tr>\n    <tr>\n      <th>8</th>\n      <td>135</td>\n      <td>2.631579</td>\n      <td>def ascii_value_string(str1):\\r\\n  for i in ra...</td>\n      <td>def|| as||ci||i||_||value||_||string||(||str||...</td>\n      <td>def|| asc||ii||_||value||_||string||(||str||1|...</td>\n    </tr>\n    <tr>\n      <th>9</th>\n      <td>137</td>\n      <td>0.540541</td>\n      <td>def sum_digits_single(x) : \\r\\n    ans = 0\\r\\n...</td>\n      <td>def|| sum||_||dig||its||_||single||(||x||)|| :...</td>\n      <td>def|| sum||_||dig||its||_||single||(||x||)|| :...</td>\n    </tr>\n    <tr>\n      <th>10</th>\n      <td>140</td>\n      <td>1.408451</td>\n      <td>def gcd(p,q):\\r\\n    while q != 0:\\r\\n        ...</td>\n      <td>def|| g||cd||(||p||,||q||):||\\r||\\n|| || || ||...</td>\n      <td>def|| g||cd||(||p||,||q||):||\\r||\\n|| || || ||...</td>\n    </tr>\n    <tr>\n      <th>11</th>\n      <td>146</td>\n      <td>2.325581</td>\n      <td>from itertools import groupby\\r\\ndef encode_li...</td>\n      <td>from|| it||ert||ools|| import|| group||by||\\r|...</td>\n      <td>from|| iter||tools|| import|| group||by||\\r||\\...</td>\n    </tr>\n    <tr>\n      <th>12</th>\n      <td>161</td>\n      <td>1.219512</td>\n      <td>def count_occurance(s):\\r\\n  count=0\\r\\n  for ...</td>\n      <td>def|| count||_||occ||urance||(||s||):||\\r||\\n|...</td>\n      <td>def|| count||_||occ||urance||(||s||):||\\r||\\n|...</td>\n    </tr>\n    <tr>\n      <th>13</th>\n      <td>164</td>\n      <td>1.136364</td>\n      <td>def is_valid_parenthese( str1):\\r\\n        sta...</td>\n      <td>def|| is||_||valid||_||parent||he||se||(|| str...</td>\n      <td>def|| is||_||valid||_||paren||these||(|| str||...</td>\n    </tr>\n    <tr>\n      <th>14</th>\n      <td>171</td>\n      <td>1.515152</td>\n      <td>import re\\r\\ndef find_character(string):\\r\\n  ...</td>\n      <td>import|| re||\\r||\\n||def|| find||_||character|...</td>\n      <td>import|| re||\\r||\\n||def|| find||_||character|...</td>\n    </tr>\n    <tr>\n      <th>15</th>\n      <td>181</td>\n      <td>0.806452</td>\n      <td>def check_String(str): \\r\\n    flag_l = False\\...</td>\n      <td>def|| check||_||String||(||str||):|| ||\\r||\\n|...</td>\n      <td>def|| check||_||String||(||str||):|| ||\\r||\\n|...</td>\n    </tr>\n    <tr>\n      <th>16</th>\n      <td>197</td>\n      <td>1.408451</td>\n      <td>import re\\r\\ndef is_decimal(num):\\r\\n  num_fet...</td>\n      <td>import|| re||\\r||\\n||def|| is||_||dec||imal||(...</td>\n      <td>import|| re||\\r||\\n||def|| is||_||dec||imal||(...</td>\n    </tr>\n    <tr>\n      <th>17</th>\n      <td>204</td>\n      <td>0.833333</td>\n      <td>def decode_list(alist):\\r\\n    def aux(g):\\r\\n...</td>\n      <td>def|| decode||_||list||(||alist||):||\\r||\\n|| ...</td>\n      <td>def|| decode||_||list||(||alist||):||\\r||\\n|| ...</td>\n    </tr>\n    <tr>\n      <th>18</th>\n      <td>222</td>\n      <td>12.820513</td>\n      <td>def lateralsuface_cylinder(r,h):\\r\\n  laterals...</td>\n      <td>def|| later||als||u||face||_||cyl||inder||(||r...</td>\n      <td>def|| lateral||su||face||_||cyl||inder||(||r||...</td>\n    </tr>\n    <tr>\n      <th>19</th>\n      <td>244</td>\n      <td>2.222222</td>\n      <td>from itertools import combinations_with_replac...</td>\n      <td>from|| it||ert||ools|| import|| combinations||...</td>\n      <td>from|| iter||tools|| import|| combinations||_|...</td>\n    </tr>\n    <tr>\n      <th>20</th>\n      <td>255</td>\n      <td>6.896552</td>\n      <td>def lateralsurface_cube(l):\\r\\n  LSA = 4 * (l ...</td>\n      <td>def|| later||als||ur||face||_||cube||(||l||):|...</td>\n      <td>def|| lateral||surface||_||cube||(||l||):||\\r|...</td>\n    </tr>\n    <tr>\n      <th>21</th>\n      <td>258</td>\n      <td>4.347826</td>\n      <td>def ascii_value(k):\\r\\n  ch=k\\r\\n  return ord(ch)</td>\n      <td>def|| as||ci||i||_||value||(||k||):||\\r||\\n|| ...</td>\n      <td>def|| asc||ii||_||value||(||k||):||\\r||\\n|| ||...</td>\n    </tr>\n    <tr>\n      <th>22</th>\n      <td>263</td>\n      <td>2.777778</td>\n      <td>import math  \\r\\ndef even_binomial_Coeff_Sum( ...</td>\n      <td>import|| math|| || ||\\r||\\n||def|| even||_||bi...</td>\n      <td>import|| math|| || ||\\r||\\n||def|| even||_||bi...</td>\n    </tr>\n    <tr>\n      <th>23</th>\n      <td>275</td>\n      <td>0.657895</td>\n      <td>def max_sub_array_sum_repeated(a, n, k): \\r\\n\\...</td>\n      <td>def|| max||_||sub||_||array||_||sum||_||repe||...</td>\n      <td>def|| max||_||sub||_||array||_||sum||_||repe||...</td>\n    </tr>\n    <tr>\n      <th>24</th>\n      <td>280</td>\n      <td>0.800000</td>\n      <td>def count_no_of_ways(n, k): \\r\\n\\tdp = [0] * (...</td>\n      <td>def|| count||_||no||_||of||_||ways||(||n||,|| ...</td>\n      <td>def|| count||_||no||_||of||_||ways||(||n||,|| ...</td>\n    </tr>\n    <tr>\n      <th>25</th>\n      <td>284</td>\n      <td>3.571429</td>\n      <td>def sum_div(number):\\r\\n    divisors = [1]\\r\\n...</td>\n      <td>def|| sum||_||div||(||number||):||\\r||\\n|| || ...</td>\n      <td>def|| sum||_||div||(||number||):||\\r||\\n|| || ...</td>\n    </tr>\n    <tr>\n      <th>26</th>\n      <td>296</td>\n      <td>9.230769</td>\n      <td>from copy import deepcopy\\r\\ndef colon_tuplex(...</td>\n      <td>from|| copy|| import|| deep||copy||\\r||\\n||def...</td>\n      <td>from|| copy|| import|| deep||copy||\\r||\\n||def...</td>\n    </tr>\n    <tr>\n      <th>27</th>\n      <td>306</td>\n      <td>0.877193</td>\n      <td>from itertools import groupby\\r\\ndef modified_...</td>\n      <td>from|| it||ert||ools|| import|| group||by||\\r|...</td>\n      <td>from|| iter||tools|| import|| group||by||\\r||\\...</td>\n    </tr>\n    <tr>\n      <th>28</th>\n      <td>328</td>\n      <td>2.272727</td>\n      <td>def find_Divisor(x,y):  \\r\\n    if (x==y): \\r\\...</td>\n      <td>def|| find||_||Div||is||or||(||x||,||y||):|| |...</td>\n      <td>def|| find||_||Di||visor||(||x||,||y||):|| || ...</td>\n    </tr>\n    <tr>\n      <th>29</th>\n      <td>331</td>\n      <td>1.168224</td>\n      <td>from heapq import heappop, heappush\\r\\nclass N...</td>\n      <td>from|| heap||q|| import|| he||app||op||,|| he|...</td>\n      <td>from|| heap||q|| import|| heap||pop||,|| heap|...</td>\n    </tr>\n    <tr>\n      <th>30</th>\n      <td>332</td>\n      <td>1.020408</td>\n      <td>def dig_let(s):\\r\\n d=l=0\\r\\n for c in s:\\r\\n ...</td>\n      <td>def|| dig||_||let||(||s||):||\\r||\\n|| d||=||l|...</td>\n      <td>def|| dig||_||let||(||s||):||\\r||\\n|| d||=||l|...</td>\n    </tr>\n    <tr>\n      <th>31</th>\n      <td>334</td>\n      <td>2.040816</td>\n      <td>def diff_consecutivenums(nums):\\r\\n    result ...</td>\n      <td>def|| diff||_||con||secut||iven||ums||(||n||um...</td>\n      <td>def|| diff||_||con||secut||iven||ums||(||n||um...</td>\n    </tr>\n    <tr>\n      <th>32</th>\n      <td>358</td>\n      <td>5.405405</td>\n      <td>def lateralsurface_cuboid(l,w,h):\\r\\n  LSA = 2...</td>\n      <td>def|| later||als||ur||face||_||c||ub||oid||(||...</td>\n      <td>def|| lateral||surface||_||c||ub||oid||(||l||,...</td>\n    </tr>\n    <tr>\n      <th>33</th>\n      <td>363</td>\n      <td>0.473934</td>\n      <td>def permute_string(str):\\r\\n    if len(str) ==...</td>\n      <td>def|| perm||ute||_||string||(||str||):||\\r||\\n...</td>\n      <td>def|| perm||ute||_||string||(||str||):||\\r||\\n...</td>\n    </tr>\n    <tr>\n      <th>34</th>\n      <td>378</td>\n      <td>4.411765</td>\n      <td>def find_lucas(n): \\r\\n\\tif (n == 0): \\r\\n\\t\\t...</td>\n      <td>def|| find||_||l||uc||as||(||n||):|| ||\\r||\\n|...</td>\n      <td>def|| find||_||lu||cas||(||n||):|| ||\\r||\\n||\\...</td>\n    </tr>\n    <tr>\n      <th>35</th>\n      <td>387</td>\n      <td>2.380952</td>\n      <td>def sum_of_digits(nums):\\r\\n    return sum(int...</td>\n      <td>def|| sum||_||of||_||dig||its||(||n||ums||):||...</td>\n      <td>def|| sum||_||of||_||dig||its||(||n||ums||):||...</td>\n    </tr>\n    <tr>\n      <th>36</th>\n      <td>394</td>\n      <td>6.382979</td>\n      <td>def check_tuplex(tuplex,tuple1): \\r\\n  if tupl...</td>\n      <td>def|| check||_||t||up||lex||(||t||up||lex||,||...</td>\n      <td>def|| check||_||tu||plex||(||tu||plex||,||t||u...</td>\n    </tr>\n    <tr>\n      <th>37</th>\n      <td>408</td>\n      <td>3.571429</td>\n      <td>def round_and_sum(list1):\\r\\n  lenght=len(list...</td>\n      <td>def|| round||_||and||_||sum||(||list||1||):||\\...</td>\n      <td>def|| round||_||and||_||sum||(||list||1||):||\\...</td>\n    </tr>\n    <tr>\n      <th>38</th>\n      <td>427</td>\n      <td>2.307692</td>\n      <td>def count_bidirectional(test_list):\\r\\n  res =...</td>\n      <td>def|| count||_||bid||irection||al||(||test||_|...</td>\n      <td>def|| count||_||bi||direct||ional||(||test||_|...</td>\n    </tr>\n    <tr>\n      <th>39</th>\n      <td>448</td>\n      <td>1.724138</td>\n      <td>import re\\r\\ndef remove_uppercase(str1):\\r\\n  ...</td>\n      <td>import|| re||\\r||\\n||def|| remove||_||upp||erc...</td>\n      <td>import|| re||\\r||\\n||def|| remove||_||upper||c...</td>\n    </tr>\n    <tr>\n      <th>40</th>\n      <td>474</td>\n      <td>3.365385</td>\n      <td>def is_palindrome(n) : \\r\\n\\tdivisor = 1\\r\\n\\t...</td>\n      <td>def|| is||_||pal||ind||rome||(||n||)|| :|| ||\\...</td>\n      <td>def|| is||_||pal||ind||rome||(||n||)|| :|| ||\\...</td>\n    </tr>\n    <tr>\n      <th>41</th>\n      <td>478</td>\n      <td>0.645161</td>\n      <td>def frequency_Of_Largest(n,arr): \\r\\n    mn = ...</td>\n      <td>def|| frequency||_||Of||_||L||arg||est||(||n||...</td>\n      <td>def|| frequency||_||Of||_||Large||st||(||n||,|...</td>\n    </tr>\n    <tr>\n      <th>42</th>\n      <td>492</td>\n      <td>1.960784</td>\n      <td>def add_consecutive_nums(nums):\\r\\n    result ...</td>\n      <td>def|| add||_||con||secut||ive||_||n||ums||(||n...</td>\n      <td>def|| add||_||con||sec||utive||_||n||ums||(||n...</td>\n    </tr>\n  </tbody>\n</table>\n</div>"
     },
     "execution_count": 54,
     "metadata": {},
     "output_type": "execute_result"
    }
   ],
   "source": [
    "df[\"dp_tokens\"] = [new_tokens[idx] for idx in indices]\n"
   ],
   "metadata": {
    "collapsed": false,
    "ExecuteTime": {
     "end_time": "2024-02-17T21:30:19.726377Z",
     "start_time": "2024-02-17T21:30:18.962565Z"
    }
   },
   "id": "b115e4f1732abfaa"
  },
  {
   "cell_type": "code",
   "execution_count": null,
   "outputs": [],
   "source": [
    "# df[\"dp_tokenization\"] = [show_separated(llamatokenizer, new_tokens[idx]) for idx in indices]\n",
    "# df[\"original_tokenization\"] = [show_separated(llamatokenizer, original_tokens[idx]) for idx in indices]"
   ],
   "metadata": {
    "collapsed": false
   },
   "id": "efdc34b57b45193c"
  },
  {
   "cell_type": "code",
   "execution_count": 57,
   "outputs": [
    {
     "data": {
      "text/plain": "original_tokenization    def|| sum||_||neg||at||iven||um||(||n||ums||):...\ndp_tokenization          def|| sum||_||negative||num||(||n||ums||):||\\r...\nName: 7, dtype: object"
     },
     "execution_count": 57,
     "metadata": {},
     "output_type": "execute_result"
    }
   ],
   "source": [
    "df.loc[7, ['original_tokenization', 'dp_tokenization']]"
   ],
   "metadata": {
    "collapsed": false,
    "ExecuteTime": {
     "end_time": "2024-02-17T21:31:29.020538Z",
     "start_time": "2024-02-17T21:31:28.837271Z"
    }
   },
   "id": "49ef36640631a9de"
  },
  {
   "cell_type": "code",
   "execution_count": 32,
   "outputs": [],
   "source": [
    "df.to_excel(\"results.xlsx\")"
   ],
   "metadata": {
    "collapsed": false,
    "ExecuteTime": {
     "end_time": "2024-03-04T19:57:36.809407Z",
     "start_time": "2024-03-04T19:57:36.538548Z"
    }
   },
   "id": "635598d40009ce86"
  },
  {
   "cell_type": "code",
   "execution_count": null,
   "outputs": [],
   "source": [],
   "metadata": {
    "collapsed": false
   },
   "id": "87b77d45cfed42a4"
  }
 ],
 "metadata": {
  "kernelspec": {
   "name": "python3",
   "language": "python",
   "display_name": "Python 3 (ipykernel)"
  },
  "language_info": {
   "codemirror_mode": {
    "name": "ipython",
    "version": 2
   },
   "file_extension": ".py",
   "mimetype": "text/x-python",
   "name": "python",
   "nbconvert_exporter": "python",
   "pygments_lexer": "ipython2",
   "version": "2.7.6"
  }
 },
 "nbformat": 4,
 "nbformat_minor": 5
}
